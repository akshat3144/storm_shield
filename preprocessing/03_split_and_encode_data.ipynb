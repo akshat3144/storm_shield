{
 "cells": [
  {
   "cell_type": "code",
   "execution_count": 1,
   "metadata": {
    "_cell_guid": "b1076dfc-b9ad-4769-8c92-a6c4dae69d19",
    "_uuid": "8f2839f25d086af736a60e9eeb907d3b93b6e0e5",
    "execution": {
     "iopub.execute_input": "2025-05-14T22:21:46.843765Z",
     "iopub.status.busy": "2025-05-14T22:21:46.843505Z",
     "iopub.status.idle": "2025-05-14T22:21:59.378572Z",
     "shell.execute_reply": "2025-05-14T22:21:59.377547Z",
     "shell.execute_reply.started": "2025-05-14T22:21:46.843737Z"
    },
    "trusted": true
   },
   "outputs": [],
   "source": [
    "import pandas as pd\n",
    "from sklearn.model_selection import train_test_split\n",
    "\n",
    "df = pd.read_csv(\"/kaggle/input/noaa-powout-prism-0-1-is-storm-lag/noaapowoutprism_01_Is_Storm_Lag (1).csv\")\n",
    "\n",
    "# Split into 80% (train+test) and 20% (holdout)\n",
    "train_test, holdout_data = train_test_split(df, test_size=0.2, random_state=42)\n",
    "\n",
    "# Split train_test into 70% train and 10% test (out of total)\n",
    "# Since train_test is 80%, we calculate relative proportions\n",
    "relative_test_size = 0.1 / 0.8  # = 0.125 of train_test\n",
    "train_data, test_data = train_test_split(train_test, test_size=relative_test_size, random_state=42)"
   ]
  },
  {
   "cell_type": "code",
   "execution_count": 2,
   "metadata": {
    "execution": {
     "iopub.execute_input": "2025-05-14T22:22:05.554631Z",
     "iopub.status.busy": "2025-05-14T22:22:05.554263Z",
     "iopub.status.idle": "2025-05-14T22:22:05.776289Z",
     "shell.execute_reply": "2025-05-14T22:22:05.775100Z",
     "shell.execute_reply.started": "2025-05-14T22:22:05.554605Z"
    },
    "trusted": true
   },
   "outputs": [],
   "source": [
    "# Combine datasets for consistent encoding\n",
    "data = pd.concat([train_data, test_data, holdout_data], ignore_index=True)\n",
    "\n",
    "# Encoding using DAMAGE_PROPERTY (numerical, non-target variable)\n",
    "categorical_cols = ['EVENT_TYPE', 'stability', 'WFO']\n",
    "encoding_maps = {}\n",
    "\n",
    "# Compute encoding mappings from training data using DAMAGE_PROPERTY\n",
    "for col in categorical_cols:\n",
    "    if col in train_data.columns:\n",
    "        encoding_maps[col] = train_data.groupby(col)['ppt'].mean() \n",
    "\n",
    "# Apply encoding to combined data\n",
    "for col in categorical_cols:\n",
    "    if col in data.columns:\n",
    "        data[col + '_encoded'] = data[col].map(encoding_maps[col]).fillna(train_data['ppt'].mean())\n",
    "\n",
    "# Split back into train, test, holdout\n",
    "train_data = data.iloc[:len(train_data)]\n",
    "test_data = data.iloc[len(train_data):len(train_data) + len(test_data)]\n",
    "holdout_data = data.iloc[len(train_data) + len(test_data):]"
   ]
  },
  {
   "cell_type": "code",
   "execution_count": 3,
   "metadata": {
    "execution": {
     "iopub.execute_input": "2025-05-14T22:22:34.324157Z",
     "iopub.status.busy": "2025-05-14T22:22:34.323793Z",
     "iopub.status.idle": "2025-05-14T22:22:50.707296Z",
     "shell.execute_reply": "2025-05-14T22:22:50.706610Z",
     "shell.execute_reply.started": "2025-05-14T22:22:34.324129Z"
    },
    "trusted": true
   },
   "outputs": [],
   "source": [
    "# Export\n",
    "train_data.to_csv(\"/kaggle/working/train.csv\", index=False)\n",
    "test_data.to_csv(\"/kaggle/working/test.csv\", index=False)\n",
    "holdout_data.to_csv(\"/kaggle/working/holdout.csv\", index=False)"
   ]
  }
 ],
 "metadata": {
  "kaggle": {
   "accelerator": "none",
   "dataSources": [
    {
     "datasetId": 7232568,
     "sourceId": 11531217,
     "sourceType": "datasetVersion"
    }
   ],
   "dockerImageVersionId": 31012,
   "isGpuEnabled": false,
   "isInternetEnabled": true,
   "language": "python",
   "sourceType": "notebook"
  },
  "kernelspec": {
   "display_name": "Python 3",
   "language": "python",
   "name": "python3"
  },
  "language_info": {
   "codemirror_mode": {
    "name": "ipython",
    "version": 3
   },
   "file_extension": ".py",
   "mimetype": "text/x-python",
   "name": "python",
   "nbconvert_exporter": "python",
   "pygments_lexer": "ipython3",
   "version": "3.11.11"
  }
 },
 "nbformat": 4,
 "nbformat_minor": 4
}
