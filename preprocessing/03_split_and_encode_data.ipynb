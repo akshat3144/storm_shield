{
 "cells": [
  {
   "cell_type": "code",
   "execution_count": null,
   "id": "f65ca0d6",
   "metadata": {},
   "outputs": [],
   "source": [
    "import pandas as pd\n",
    "from sklearn.model_selection import train_test_split\n",
    "\n",
    "df = pd.read_csv(\"/kaggle/input/noaa-powout-prism-0-1-is-storm-lag/noaapowoutprism_01_Is_Storm_Lag (1).csv\")\n",
    "\n",
    "# Split into 80% (train+test) and 20% (holdout)\n",
    "train_test, holdout_data = train_test_split(df, test_size=0.2, random_state=42)\n",
    "\n",
    "# Split train_test into 70% train and 10% test (out of total)\n",
    "# Since train_test is 80%, we calculate relative proportions\n",
    "relative_test_size = 0.1 / 0.8  # = 0.125 of train_test\n",
    "train_data, test_data = train_test_split(train_test, test_size=relative_test_size, random_state=42)"
   ]
  },
  {
   "cell_type": "code",
   "execution_count": null,
   "id": "38eef00e",
   "metadata": {},
   "outputs": [],
   "source": [
    "# Combine datasets for consistent encoding\n",
    "data = pd.concat([train_data, test_data, holdout_data], ignore_index=True)\n",
    "\n",
    "# Encoding using DAMAGE_PROPERTY (numerical, non-target variable)\n",
    "categorical_cols = ['EVENT_TYPE', 'stability', 'WFO']\n",
    "encoding_maps = {}\n",
    "\n",
    "# Compute encoding mappings from training data using DAMAGE_PROPERTY\n",
    "for col in categorical_cols:\n",
    "    if col in train_data.columns:\n",
    "        encoding_maps[col] = train_data.groupby(col)['ppt'].mean() \n",
    "\n",
    "# Apply encoding to combined data\n",
    "for col in categorical_cols:\n",
    "    if col in data.columns:\n",
    "        data[col + '_encoded'] = data[col].map(encoding_maps[col]).fillna(train_data['ppt'].mean())\n",
    "\n",
    "# Split back into train, test, holdout\n",
    "train_data = data.iloc[:len(train_data)]\n",
    "test_data = data.iloc[len(train_data):len(train_data) + len(test_data)]\n",
    "holdout_data = data.iloc[len(train_data) + len(test_data):]"
   ]
  },
  {
   "cell_type": "code",
   "execution_count": null,
   "id": "3ae734af",
   "metadata": {},
   "outputs": [],
   "source": [
    "# Export\n",
    "train_data.to_csv(\"/kaggle/working/train.csv\", index=False)\n",
    "test_data.to_csv(\"/kaggle/working/test.csv\", index=False)\n",
    "holdout_data.to_csv(\"/kaggle/working/holdout.csv\", index=False)"
   ]
  }
 ],
 "metadata": {
  "language_info": {
   "name": "python"
  }
 },
 "nbformat": 4,
 "nbformat_minor": 5
}
