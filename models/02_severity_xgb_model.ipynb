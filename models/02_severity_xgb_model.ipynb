{
 "cells": [
  {
   "cell_type": "code",
   "execution_count": 5,
   "metadata": {
    "execution": {
     "iopub.execute_input": "2025-05-02T09:25:27.962238Z",
     "iopub.status.busy": "2025-05-02T09:25:27.961798Z",
     "iopub.status.idle": "2025-05-02T09:25:48.495902Z",
     "shell.execute_reply": "2025-05-02T09:25:48.494844Z",
     "shell.execute_reply.started": "2025-05-02T09:25:27.962210Z"
    },
    "trusted": true
   },
   "outputs": [
    {
     "name": "stdout",
     "output_type": "stream",
     "text": [
      "Severity Prediction Test Metrics:\n",
      "Accuracy : 0.8502\n",
      "Precision: 0.8500\n",
      "Recall   : 0.8502\n",
      "F1 Score : 0.8500\n",
      "\n",
      "Confusion Matrix:\n",
      "[[2897  164  174]\n",
      " [ 217 2434  380]\n",
      " [ 158  318 2676]]\n",
      "\n",
      "Classification Report:\n",
      "              precision    recall  f1-score   support\n",
      "\n",
      "           0       0.89      0.90      0.89      3235\n",
      "           1       0.83      0.80      0.82      3031\n",
      "           2       0.83      0.85      0.84      3152\n",
      "\n",
      "    accuracy                           0.85      9418\n",
      "   macro avg       0.85      0.85      0.85      9418\n",
      "weighted avg       0.85      0.85      0.85      9418\n",
      "\n"
     ]
    },
    {
     "data": {
      "text/plain": [
       "['severity_scaler.pkl']"
      ]
     },
     "execution_count": 5,
     "metadata": {},
     "output_type": "execute_result"
    }
   ],
   "source": [
    "import pandas as pd\n",
    "import joblib\n",
    "from sklearn.ensemble import RandomForestClassifier\n",
    "from sklearn.preprocessing import StandardScaler, LabelEncoder\n",
    "from xgboost import XGBClassifier\n",
    "from sklearn.metrics import accuracy_score, precision_score, recall_score, f1_score, confusion_matrix, classification_report\n",
    "\n",
    "# Load training and test data\n",
    "train_data = pd.read_csv('/kaggle/input/mlpr-data-split/train.csv')\n",
    "test_data = pd.read_csv('/kaggle/input/mlpr-data-split/test.csv')\n",
    "\n",
    "# Filter for storm events\n",
    "train_data = train_data[train_data['is_storm_lagged'] == 1]\n",
    "test_data = test_data[test_data['is_storm_lagged'] == 1]\n",
    "\n",
    "# Define features and target\n",
    "severity_features = [\n",
    "    'DEATHS_INDIRECT', 'INJURIES_DIRECT', 'INJURIES_INDIRECT', 'DEATHS_DIRECT',\n",
    "    'DAMAGE_PROPERTY', 'DAMAGE_CROPS', 'customers_out', 'duration_hours',\n",
    "    'desc_word_count', 'desc_char_count',\n",
    "    'has_tornado', 'has_hail', 'has_flood', 'has_wind', 'has_tree',\n",
    "    'has_power', 'has_damage', 'has_outage', 'has_broken', 'has_blown',\n",
    "    'tmin', 'tmax', 'tavg', 'ppt'\n",
    "]\n",
    "target_col = 'severity_class'\n",
    "\n",
    "# Prepare training features and target\n",
    "X_train = train_data[severity_features]\n",
    "y_train = train_data[target_col]\n",
    "\n",
    "# Scale training features\n",
    "scaler = StandardScaler()\n",
    "X_train_scaled = scaler.fit_transform(X_train)\n",
    "\n",
    "# Initialize and train model\n",
    "xgb_model = XGBClassifier(\n",
    "    n_estimators=403,\n",
    "    max_depth=10,\n",
    "    learning_rate=0.09065400280278058,\n",
    "    subsample=0.933968095670629,\n",
    "    colsample_bytree=0.5647574078202744,\n",
    "    gamma=0.00017586655077512627,\n",
    "    min_child_weight=2,\n",
    "    use_label_encoder=False,\n",
    "    eval_metric='logloss',\n",
    "    random_state=42\n",
    ")\n",
    "xgb_model.fit(X_train_scaled, y_train)\n",
    "\n",
    "# Prepare test features and target\n",
    "X_test = test_data[severity_features]\n",
    "y_test = test_data[target_col]\n",
    "X_test_scaled = scaler.transform(X_test)\n",
    "\n",
    "# Evaluate model on test data\n",
    "y_pred = xgb_model.predict(X_test_scaled)\n",
    "\n",
    "accuracy = accuracy_score(y_test, y_pred)\n",
    "precision = precision_score(y_test, y_pred, average='weighted', zero_division=0)\n",
    "recall = recall_score(y_test, y_pred, average='weighted', zero_division=0)\n",
    "f1 = f1_score(y_test, y_pred, average='weighted', zero_division=0)\n",
    "conf_matrix = confusion_matrix(y_test, y_pred)\n",
    "\n",
    "print(\"Severity Prediction Test Metrics:\")\n",
    "print(f\"Accuracy : {accuracy:.4f}\")\n",
    "print(f\"Precision: {precision:.4f}\")\n",
    "print(f\"Recall   : {recall:.4f}\")\n",
    "print(f\"F1 Score : {f1:.4f}\")\n",
    "print(\"\\nConfusion Matrix:\")\n",
    "print(conf_matrix)\n",
    "print(\"\\nClassification Report:\")\n",
    "print(classification_report(y_test, y_pred, zero_division=0))\n",
    "\n",
    "# Save the model and scaler\n",
    "joblib.dump(xgb_model, 'severity_xg_model.pkl')\n",
    "joblib.dump(scaler, 'severity_scaler.pkl')"
   ]
  }
 ],
 "metadata": {
  "kaggle": {
   "accelerator": "none",
   "dataSources": [
    {
     "datasetId": 7304854,
     "sourceId": 11641464,
     "sourceType": "datasetVersion"
    }
   ],
   "dockerImageVersionId": 31012,
   "isGpuEnabled": false,
   "isInternetEnabled": true,
   "language": "python",
   "sourceType": "notebook"
  },
  "kernelspec": {
   "display_name": "Python 3",
   "language": "python",
   "name": "python3"
  },
  "language_info": {
   "codemirror_mode": {
    "name": "ipython",
    "version": 3
   },
   "file_extension": ".py",
   "mimetype": "text/x-python",
   "name": "python",
   "nbconvert_exporter": "python",
   "pygments_lexer": "ipython3",
   "version": "3.11.11"
  }
 },
 "nbformat": 4,
 "nbformat_minor": 4
}
