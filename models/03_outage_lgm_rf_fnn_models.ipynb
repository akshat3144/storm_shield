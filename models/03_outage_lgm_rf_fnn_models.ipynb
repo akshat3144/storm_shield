{
 "cells": [
  {
   "cell_type": "code",
   "execution_count": 1,
   "metadata": {
    "execution": {
     "iopub.execute_input": "2025-05-02T10:16:34.870823Z",
     "iopub.status.busy": "2025-05-02T10:16:34.870427Z",
     "iopub.status.idle": "2025-05-02T10:16:44.778742Z",
     "shell.execute_reply": "2025-05-02T10:16:44.777789Z",
     "shell.execute_reply.started": "2025-05-02T10:16:34.870787Z"
    },
    "trusted": true
   },
   "outputs": [
    {
     "name": "stderr",
     "output_type": "stream",
     "text": [
      "/usr/local/lib/python3.11/dist-packages/numpy/core/fromnumeric.py:59: FutureWarning: 'DataFrame.swapaxes' is deprecated and will be removed in a future version. Please use 'DataFrame.transpose' instead.\n",
      "  return bound(*args, **kwds)\n",
      "/usr/local/lib/python3.11/dist-packages/numpy/core/fromnumeric.py:59: FutureWarning: 'DataFrame.swapaxes' is deprecated and will be removed in a future version. Please use 'DataFrame.transpose' instead.\n",
      "  return bound(*args, **kwds)\n"
     ]
    }
   ],
   "source": [
    "import pandas as pd\n",
    "import joblib\n",
    "import matplotlib.pyplot as plt\n",
    "from sklearn.ensemble import RandomForestClassifier\n",
    "from sklearn.preprocessing import StandardScaler\n",
    "from sklearn.metrics import (\n",
    "    accuracy_score, precision_score, recall_score, f1_score,\n",
    "    confusion_matrix, ConfusionMatrixDisplay\n",
    ")\n",
    "\n",
    "# ----------------- LOAD DATA -----------------\n",
    "import pandas as pd\n",
    "import numpy as np\n",
    "\n",
    "# Load data\n",
    "train_df = pd.read_csv('/kaggle/input/mlpr-data-split/train.csv')\n",
    "test_df = pd.read_csv('/kaggle/input/mlpr-data-split/test.csv')\n",
    "\n",
    "# Function to split and process a DataFrame\n",
    "def process_df(df):\n",
    "    # Create storm lagged severity-based DataFrames\n",
    "    df_low = df[(df['is_storm_lagged'] == 1) & (df['severity_class'] == 0)].copy()\n",
    "    df_medium = df[(df['is_storm_lagged'] == 1) & (df['severity_class'] == 1)].copy()\n",
    "    df_high = df[(df['is_storm_lagged'] == 1) & (df['severity_class'] == 2)].copy()\n",
    "\n",
    "    # Add is_outage flag\n",
    "    for sub_df in [df_low, df_medium, df_high]:\n",
    "        sub_df['is_outage'] = (sub_df['customers_out'] > 0).astype(int)\n",
    "\n",
    "    # Process non-storm rows\n",
    "    non_storm_data = df[df['is_storm_lagged'] == 0].copy()\n",
    "    non_storm_data['is_outage'] = 0\n",
    "    non_storm_data['severity_class'] = 10  # Placeholder\n",
    "\n",
    "    # Shuffle and split non-storm rows\n",
    "    non_storm_split = np.array_split(non_storm_data.sample(frac=1, random_state=42), 3)\n",
    "    non_storm_low, non_storm_medium, non_storm_high = non_storm_split\n",
    "\n",
    "    # Augment original DataFrames\n",
    "    df_low = pd.concat([df_low, non_storm_low], ignore_index=True)\n",
    "    df_medium = pd.concat([df_medium, non_storm_medium], ignore_index=True)\n",
    "    df_high = pd.concat([df_high, non_storm_high], ignore_index=True)\n",
    "\n",
    "    return df_low, df_medium, df_high\n",
    "\n",
    "# Process both train and test DataFrames\n",
    "train_low, train_medium, train_high = process_df(train_df)\n",
    "test_low, test_medium, test_high = process_df(test_df)\n",
    "\n",
    "outage_features = [\n",
    "    'tmin', 'tmax', 'tavg', 'ppt',\n",
    "    'has_tornado', 'has_hail', 'has_flood', 'has_wind', 'has_tree',\n",
    "    'DAMAGE_PROPERTY', 'DAMAGE_CROPS', 'duration_hours',\n",
    "    'desc_word_count', 'desc_char_count'\n",
    "]"
   ]
  },
  {
   "cell_type": "markdown",
   "metadata": {},
   "source": [
    "# Low Severity"
   ]
  },
  {
   "cell_type": "code",
   "execution_count": 4,
   "metadata": {
    "execution": {
     "iopub.execute_input": "2025-05-02T09:46:52.922571Z",
     "iopub.status.busy": "2025-05-02T09:46:52.921429Z",
     "iopub.status.idle": "2025-05-02T09:47:04.637310Z",
     "shell.execute_reply": "2025-05-02T09:47:04.636263Z",
     "shell.execute_reply.started": "2025-05-02T09:46:52.922536Z"
    },
    "trusted": true
   },
   "outputs": [
    {
     "name": "stdout",
     "output_type": "stream",
     "text": [
      "[LightGBM] [Info] Number of positive: 22426, number of negative: 24427\n",
      "[LightGBM] [Info] Auto-choosing row-wise multi-threading, the overhead of testing was 0.005856 seconds.\n",
      "You can set `force_row_wise=true` to remove the overhead.\n",
      "And if memory is not enough, you can set `force_col_wise=true`.\n",
      "[LightGBM] [Info] Total Bins 2030\n",
      "[LightGBM] [Info] Number of data points in the train set: 46853, number of used features: 14\n",
      "[LightGBM] [Info] [binary:BoostFromScore]: pavg=0.478646 -> initscore=-0.085468\n",
      "[LightGBM] [Info] Start training from score -0.085468\n",
      "[LightGBM] [Warning] No further splits with positive gain, best gain: -inf\n",
      "[LightGBM] [Warning] No further splits with positive gain, best gain: -inf\n",
      "[LightGBM] [Warning] No further splits with positive gain, best gain: -inf\n",
      "[LightGBM] [Warning] No further splits with positive gain, best gain: -inf\n",
      "[LightGBM] [Warning] No further splits with positive gain, best gain: -inf\n",
      "[LightGBM] [Warning] No further splits with positive gain, best gain: -inf\n",
      "[LightGBM] [Warning] No further splits with positive gain, best gain: -inf\n",
      "[LightGBM] [Warning] No further splits with positive gain, best gain: -inf\n",
      "[LightGBM] [Warning] No further splits with positive gain, best gain: -inf\n",
      "Accuracy: 0.9539\n",
      "Precision (weighted): 0.9540\n",
      "Recall (weighted): 0.9539\n",
      "F1 Score (weighted): 0.9539\n"
     ]
    },
    {
     "data": {
      "image/png": "[encoded data removed]",
      "text/plain": [
       "<Figure size 640x480 with 2 Axes>"
      ]
     },
     "metadata": {},
     "output_type": "display_data"
    },
    {
     "data": {
      "text/plain": [
       "['/kaggle/working/low_severity_scaler.pkl']"
      ]
     },
     "execution_count": 4,
     "metadata": {},
     "output_type": "execute_result"
    }
   ],
   "source": [
    "import lightgbm as lgb\n",
    "\n",
    "# ----------------- PREPARE FEATURES -----------------\n",
    "X_train = train_low[outage_features]\n",
    "y_train = train_low['is_outage']\n",
    "\n",
    "X_test = test_low[outage_features]\n",
    "y_test = test_low['is_outage']\n",
    "\n",
    "# ----------------- SCALE FEATURES -----------------\n",
    "scaler = StandardScaler()\n",
    "X_train_scaled = scaler.fit_transform(X_train)\n",
    "X_test_scaled = scaler.transform(X_test)\n",
    "\n",
    "# ----------------- TRAIN MODEL -----------------\n",
    "lgb_model = lgb.LGBMClassifier(\n",
    "    n_estimators = 319,\n",
    "    learning_rate = 0.047847333909262976,\n",
    "    num_leaves = 281,\n",
    "    max_depth = 20,\n",
    "    min_child_samples = 22,\n",
    "    subsample = 0.527136639688917,\n",
    "    colsample_bytree = 0.8326768083509417,\n",
    "    random_state = 42\n",
    ")\n",
    "lgb_model.fit(X_train_scaled, y_train)\n",
    "\n",
    "# ----------------- EVALUATE -----------------\n",
    "y_pred = lgb_model.predict(X_test_scaled)\n",
    "\n",
    "accuracy = accuracy_score(y_test, y_pred)\n",
    "precision = precision_score(y_test, y_pred, average='weighted', zero_division=0)\n",
    "recall = recall_score(y_test, y_pred, average='weighted', zero_division=0)\n",
    "f1 = f1_score(y_test, y_pred, average='weighted', zero_division=0)\n",
    "\n",
    "print(f\"Accuracy: {accuracy:.4f}\")\n",
    "print(f\"Precision (weighted): {precision:.4f}\")\n",
    "print(f\"Recall (weighted): {recall:.4f}\")\n",
    "print(f\"F1 Score (weighted): {f1:.4f}\")\n",
    "\n",
    "# ----------------- CONFUSION MATRIX -----------------\n",
    "cm = confusion_matrix(y_test, y_pred)\n",
    "disp = ConfusionMatrixDisplay(confusion_matrix=cm)\n",
    "disp.plot(cmap=plt.cm.Blues)\n",
    "plt.title(\"Confusion Matrix\")\n",
    "plt.show()\n",
    "\n",
    "# ----------------- EXPORT MODEL AND SCALER -----------------\n",
    "joblib.dump(lgb_model, '/kaggle/working/low_severity_lgm_model.pkl')\n",
    "joblib.dump(scaler, '/kaggle/working/low_severity_scaler.pkl')"
   ]
  },
  {
   "cell_type": "markdown",
   "metadata": {},
   "source": [
    "# Medium Severity"
   ]
  },
  {
   "cell_type": "code",
   "execution_count": 3,
   "metadata": {
    "execution": {
     "iopub.execute_input": "2025-05-01T21:28:28.775811Z",
     "iopub.status.busy": "2025-05-01T21:28:28.775501Z",
     "iopub.status.idle": "2025-05-01T21:28:37.168593Z",
     "shell.execute_reply": "2025-05-01T21:28:37.167976Z",
     "shell.execute_reply.started": "2025-05-01T21:28:28.775787Z"
    },
    "trusted": true
   },
   "outputs": [
    {
     "name": "stdout",
     "output_type": "stream",
     "text": [
      "Accuracy: 0.9260\n",
      "Precision (weighted): 0.9264\n",
      "Recall (weighted): 0.9260\n",
      "F1 Score (weighted): 0.9261\n"
     ]
    },
    {
     "data": {
      "image/png": "[encoded data removed]",
      "text/plain": [
       "<Figure size 640x480 with 2 Axes>"
      ]
     },
     "metadata": {},
     "output_type": "display_data"
    },
    {
     "data": {
      "text/plain": [
       "['/kaggle/working/medium_severity_scaler.pkl']"
      ]
     },
     "execution_count": 3,
     "metadata": {},
     "output_type": "execute_result"
    }
   ],
   "source": [
    "import pandas as pd\n",
    "import joblib\n",
    "import matplotlib.pyplot as plt\n",
    "from sklearn.ensemble import RandomForestClassifier\n",
    "from sklearn.preprocessing import StandardScaler\n",
    "from sklearn.metrics import (\n",
    "    accuracy_score, precision_score, recall_score, f1_score,\n",
    "    confusion_matrix, ConfusionMatrixDisplay\n",
    ")\n",
    "\n",
    "# ----------------- PREPARE FEATURES -----------------\n",
    "outage_features = [\n",
    "    'tmin', 'tmax', 'tavg', 'ppt',\n",
    "    'has_tornado', 'has_hail', 'has_flood', 'has_wind', 'has_tree',\n",
    "    'DAMAGE_PROPERTY', 'DAMAGE_CROPS', 'duration_hours',\n",
    "    'desc_word_count', 'desc_char_count'\n",
    "]\n",
    "\n",
    "X_train = train_medium[outage_features]\n",
    "y_train = train_medium['is_outage']\n",
    "\n",
    "X_test = test_medium[outage_features]\n",
    "y_test = test_medium['is_outage']\n",
    "\n",
    "# ----------------- SCALE FEATURES -----------------\n",
    "scaler = StandardScaler()\n",
    "X_train_scaled = scaler.fit_transform(X_train)\n",
    "X_test_scaled = scaler.transform(X_test)\n",
    "\n",
    "# ----------------- TRAIN MODEL -----------------\n",
    "rf_model = RandomForestClassifier(\n",
    "    n_estimators=201,\n",
    "    max_depth=38,\n",
    "    min_samples_split=4,\n",
    "    min_samples_leaf=1,\n",
    "    max_features='sqrt',\n",
    "    bootstrap=False,\n",
    "    random_state=42,\n",
    "    n_jobs=-1\n",
    ")\n",
    "rf_model.fit(X_train_scaled, y_train)\n",
    "\n",
    "# ----------------- EVALUATE -----------------\n",
    "y_pred = rf_model.predict(X_test_scaled)\n",
    "\n",
    "accuracy = accuracy_score(y_test, y_pred)\n",
    "precision = precision_score(y_test, y_pred, average='weighted', zero_division=0)\n",
    "recall = recall_score(y_test, y_pred, average='weighted', zero_division=0)\n",
    "f1 = f1_score(y_test, y_pred, average='weighted', zero_division=0)\n",
    "\n",
    "print(f\"Accuracy: {accuracy:.4f}\")\n",
    "print(f\"Precision (weighted): {precision:.4f}\")\n",
    "print(f\"Recall (weighted): {recall:.4f}\")\n",
    "print(f\"F1 Score (weighted): {f1:.4f}\")\n",
    "\n",
    "# ----------------- CONFUSION MATRIX -----------------\n",
    "cm = confusion_matrix(y_test, y_pred)\n",
    "disp = ConfusionMatrixDisplay(confusion_matrix=cm)\n",
    "disp.plot(cmap=plt.cm.Blues)\n",
    "plt.title(\"Confusion Matrix\")\n",
    "plt.show()\n",
    "\n",
    "# ----------------- EXPORT MODEL AND SCALER -----------------\n",
    "joblib.dump(rf_model, '/kaggle/working/medium_severity_rf_model.pkl')\n",
    "joblib.dump(scaler, '/kaggle/working/medium_severity_scaler.pkl')"
   ]
  },
  {
   "cell_type": "markdown",
   "metadata": {},
   "source": [
    "# High Severity"
   ]
  },
  {
   "cell_type": "code",
   "execution_count": 2,
   "metadata": {
    "execution": {
     "iopub.execute_input": "2025-05-02T10:16:48.805933Z",
     "iopub.status.busy": "2025-05-02T10:16:48.805632Z",
     "iopub.status.idle": "2025-05-02T10:17:41.339295Z",
     "shell.execute_reply": "2025-05-02T10:17:41.338111Z",
     "shell.execute_reply.started": "2025-05-02T10:16:48.805912Z"
    },
    "trusted": true
   },
   "outputs": [
    {
     "name": "stderr",
     "output_type": "stream",
     "text": [
      "2025-05-02 10:16:50.812590: E external/local_xla/xla/stream_executor/cuda/cuda_fft.cc:477] Unable to register cuFFT factory: Attempting to register factory for plugin cuFFT when one has already been registered\n",
      "WARNING: All log messages before absl::InitializeLog() is called are written to STDERR\n",
      "E0000 00:00:1746181011.076007      31 cuda_dnn.cc:8310] Unable to register cuDNN factory: Attempting to register factory for plugin cuDNN when one has already been registered\n",
      "E0000 00:00:1746181011.149589      31 cuda_blas.cc:1418] Unable to register cuBLAS factory: Attempting to register factory for plugin cuBLAS when one has already been registered\n",
      "/usr/local/lib/python3.11/dist-packages/keras/src/layers/core/dense.py:87: UserWarning: Do not pass an `input_shape`/`input_dim` argument to a layer. When using Sequential models, prefer using an `Input(shape)` object as the first layer in the model instead.\n",
      "  super().__init__(activity_regularizer=activity_regularizer, **kwargs)\n",
      "2025-05-02 10:17:07.593575: E external/local_xla/xla/stream_executor/cuda/cuda_driver.cc:152] failed call to cuInit: INTERNAL: CUDA error: Failed call to cuInit: UNKNOWN ERROR (303)\n"
     ]
    },
    {
     "name": "stdout",
     "output_type": "stream",
     "text": [
      "\u001b[1m208/208\u001b[0m \u001b[32m━━━━━━━━━━━━━━━━━━━━\u001b[0m\u001b[37m\u001b[0m \u001b[1m0s\u001b[0m 2ms/step\n",
      "Accuracy: 0.8685\n",
      "Precision (weighted): 0.8759\n",
      "Recall (weighted): 0.8685\n",
      "F1 Score (weighted): 0.8683\n"
     ]
    },
    {
     "data": {
      "image/png": "[encoded data removed]",
      "text/plain": [
       "<Figure size 640x480 with 2 Axes>"
      ]
     },
     "metadata": {},
     "output_type": "display_data"
    },
    {
     "data": {
      "text/plain": [
       "['/kaggle/working/high_severity_scaler.pkl']"
      ]
     },
     "execution_count": 2,
     "metadata": {},
     "output_type": "execute_result"
    }
   ],
   "source": [
    "from tensorflow.keras.models import Sequential\n",
    "from tensorflow.keras.layers import Dense, Dropout\n",
    "from tensorflow.keras.optimizers import Adam\n",
    "\n",
    "# ----------------- PREPARE FEATURES -----------------\n",
    "X_train = train_high[outage_features]\n",
    "y_train = train_high['is_outage']\n",
    "\n",
    "X_test = test_high[outage_features]\n",
    "y_test = test_high['is_outage']\n",
    "\n",
    "# ----------------- SCALE FEATURES -----------------\n",
    "scaler = StandardScaler()\n",
    "X_train_scaled = scaler.fit_transform(X_train)\n",
    "X_test_scaled = scaler.transform(X_test)\n",
    "\n",
    "# ----------------- TRAIN MODEL -----------------\n",
    "# Optimized hyperparameters from Optuna\n",
    "n_units = [80, 112, 96]\n",
    "dropout_rate = 0.1677425146431672\n",
    "learning_rate = 0.001715383587455835\n",
    "batch_size = 64\n",
    "\n",
    "# Build optimized model\n",
    "model = Sequential()\n",
    "model.add(Dense(n_units[0], activation='relu', input_shape=(len(outage_features),)))\n",
    "model.add(Dropout(dropout_rate))\n",
    "model.add(Dense(n_units[1], activation='relu'))\n",
    "model.add(Dropout(dropout_rate))\n",
    "model.add(Dense(n_units[2], activation='relu'))\n",
    "model.add(Dense(1, activation='sigmoid'))\n",
    "\n",
    "model.compile(optimizer=Adam(learning_rate=learning_rate), loss='binary_crossentropy', metrics=['accuracy'])\n",
    "\n",
    "model.fit(\n",
    "    X_train_scaled, y_train,\n",
    "    epochs=20,\n",
    "    batch_size=batch_size,\n",
    "    validation_split=0.2,\n",
    "    verbose=0\n",
    ")\n",
    "\n",
    "# ----------------- EVALUATE -----------------\n",
    "y_pred = (model.predict(X_test_scaled) > 0.5).astype(int).flatten()\n",
    "\n",
    "accuracy = accuracy_score(y_test, y_pred)\n",
    "precision = precision_score(y_test, y_pred, average='weighted', zero_division=0)\n",
    "recall = recall_score(y_test, y_pred, average='weighted', zero_division=0)\n",
    "f1 = f1_score(y_test, y_pred, average='weighted', zero_division=0)\n",
    "\n",
    "print(f\"Accuracy: {accuracy:.4f}\")\n",
    "print(f\"Precision (weighted): {precision:.4f}\")\n",
    "print(f\"Recall (weighted): {recall:.4f}\")\n",
    "print(f\"F1 Score (weighted): {f1:.4f}\")\n",
    "\n",
    "# ----------------- CONFUSION MATRIX -----------------\n",
    "cm = confusion_matrix(y_test, y_pred)\n",
    "disp = ConfusionMatrixDisplay(confusion_matrix=cm)\n",
    "disp.plot(cmap=plt.cm.Blues)\n",
    "plt.title(\"Confusion Matrix\")\n",
    "plt.show()\n",
    "\n",
    "# ----------------- EXPORT MODEL -----------------\n",
    "joblib.dump(model, '/kaggle/working/high_severity_fnn_model.pkl')\n",
    "joblib.dump(scaler, '/kaggle/working/high_severity_scaler.pkl')"
   ]
  }
 ],
 "metadata": {
  "kaggle": {
   "accelerator": "none",
   "dataSources": [
    {
     "datasetId": 7304854,
     "sourceId": 11641464,
     "sourceType": "datasetVersion"
    }
   ],
   "dockerImageVersionId": 31012,
   "isGpuEnabled": false,
   "isInternetEnabled": true,
   "language": "python",
   "sourceType": "notebook"
  },
  "kernelspec": {
   "display_name": "Python 3",
   "language": "python",
   "name": "python3"
  },
  "language_info": {
   "codemirror_mode": {
    "name": "ipython",
    "version": 3
   },
   "file_extension": ".py",
   "mimetype": "text/x-python",
   "name": "python",
   "nbconvert_exporter": "python",
   "pygments_lexer": "ipython3",
   "version": "3.11.11"
  }
 },
 "nbformat": 4,
 "nbformat_minor": 4
}
