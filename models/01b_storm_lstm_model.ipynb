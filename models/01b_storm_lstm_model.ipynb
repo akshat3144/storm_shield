{
 "cells": [
  {
   "cell_type": "code",
   "execution_count": 1,
   "metadata": {
    "execution": {
     "iopub.execute_input": "2025-05-17T21:23:06.406467Z",
     "iopub.status.busy": "2025-05-17T21:23:06.406168Z",
     "iopub.status.idle": "2025-05-17T21:30:59.177068Z",
     "shell.execute_reply": "2025-05-17T21:30:59.176236Z",
     "shell.execute_reply.started": "2025-05-17T21:23:06.406444Z"
    },
    "trusted": true
   },
   "outputs": [
    {
     "name": "stderr",
     "output_type": "stream",
     "text": [
      "2025-05-17 21:23:08.770366: E external/local_xla/xla/stream_executor/cuda/cuda_fft.cc:477] Unable to register cuFFT factory: Attempting to register factory for plugin cuFFT when one has already been registered\n",
      "WARNING: All log messages before absl::InitializeLog() is called are written to STDERR\n",
      "E0000 00:00:1747516988.962181      31 cuda_dnn.cc:8310] Unable to register cuDNN factory: Attempting to register factory for plugin cuDNN when one has already been registered\n",
      "E0000 00:00:1747516989.018538      31 cuda_blas.cc:1418] Unable to register cuBLAS factory: Attempting to register factory for plugin cuBLAS when one has already been registered\n",
      "I0000 00:00:1747517011.426143      31 gpu_device.cc:2022] Created device /job:localhost/replica:0/task:0/device:GPU:0 with 13942 MB memory:  -> device: 0, name: Tesla T4, pci bus id: 0000:00:04.0, compute capability: 7.5\n",
      "I0000 00:00:1747517011.426813      31 gpu_device.cc:2022] Created device /job:localhost/replica:0/task:0/device:GPU:1 with 13942 MB memory:  -> device: 1, name: Tesla T4, pci bus id: 0000:00:05.0, compute capability: 7.5\n",
      "/usr/local/lib/python3.11/dist-packages/keras/src/layers/rnn/rnn.py:204: UserWarning: Do not pass an `input_shape`/`input_dim` argument to a layer. When using Sequential models, prefer using an `Input(shape)` object as the first layer in the model instead.\n",
      "  super().__init__(**kwargs)\n"
     ]
    },
    {
     "name": "stdout",
     "output_type": "stream",
     "text": [
      "Epoch 1/10\n"
     ]
    },
    {
     "name": "stderr",
     "output_type": "stream",
     "text": [
      "I0000 00:00:1747517016.505313      99 cuda_dnn.cc:529] Loaded cuDNN version 90300\n"
     ]
    },
    {
     "name": "stdout",
     "output_type": "stream",
     "text": [
      "\u001b[1m9200/9200\u001b[0m \u001b[32m━━━━━━━━━━━━━━━━━━━━\u001b[0m\u001b[37m\u001b[0m \u001b[1m49s\u001b[0m 5ms/step - accuracy: 0.8843 - loss: 0.3268\n",
      "Epoch 2/10\n",
      "\u001b[1m9200/9200\u001b[0m \u001b[32m━━━━━━━━━━━━━━━━━━━━\u001b[0m\u001b[37m\u001b[0m \u001b[1m44s\u001b[0m 5ms/step - accuracy: 0.8943 - loss: 0.2994\n",
      "Epoch 3/10\n",
      "\u001b[1m9200/9200\u001b[0m \u001b[32m━━━━━━━━━━━━━━━━━━━━\u001b[0m\u001b[37m\u001b[0m \u001b[1m44s\u001b[0m 5ms/step - accuracy: 0.8920 - loss: 0.3024\n",
      "Epoch 4/10\n",
      "\u001b[1m9200/9200\u001b[0m \u001b[32m━━━━━━━━━━━━━━━━━━━━\u001b[0m\u001b[37m\u001b[0m \u001b[1m44s\u001b[0m 5ms/step - accuracy: 0.8952 - loss: 0.2970\n",
      "Epoch 5/10\n",
      "\u001b[1m9200/9200\u001b[0m \u001b[32m━━━━━━━━━━━━━━━━━━━━\u001b[0m\u001b[37m\u001b[0m \u001b[1m44s\u001b[0m 5ms/step - accuracy: 0.8960 - loss: 0.2948\n",
      "Epoch 6/10\n",
      "\u001b[1m9200/9200\u001b[0m \u001b[32m━━━━━━━━━━━━━━━━━━━━\u001b[0m\u001b[37m\u001b[0m \u001b[1m44s\u001b[0m 5ms/step - accuracy: 0.8953 - loss: 0.2945\n",
      "Epoch 7/10\n",
      "\u001b[1m9200/9200\u001b[0m \u001b[32m━━━━━━━━━━━━━━━━━━━━\u001b[0m\u001b[37m\u001b[0m \u001b[1m44s\u001b[0m 5ms/step - accuracy: 0.8945 - loss: 0.2962\n",
      "Epoch 8/10\n",
      "\u001b[1m9200/9200\u001b[0m \u001b[32m━━━━━━━━━━━━━━━━━━━━\u001b[0m\u001b[37m\u001b[0m \u001b[1m44s\u001b[0m 5ms/step - accuracy: 0.8936 - loss: 0.2980\n",
      "Epoch 9/10\n",
      "\u001b[1m9200/9200\u001b[0m \u001b[32m━━━━━━━━━━━━━━━━━━━━\u001b[0m\u001b[37m\u001b[0m \u001b[1m44s\u001b[0m 5ms/step - accuracy: 0.8938 - loss: 0.2977\n",
      "Epoch 10/10\n",
      "\u001b[1m9200/9200\u001b[0m \u001b[32m━━━━━━━━━━━━━━━━━━━━\u001b[0m\u001b[37m\u001b[0m \u001b[1m44s\u001b[0m 5ms/step - accuracy: 0.8963 - loss: 0.2949\n",
      "\u001b[1m658/658\u001b[0m \u001b[32m━━━━━━━━━━━━━━━━━━━━\u001b[0m\u001b[37m\u001b[0m \u001b[1m1s\u001b[0m 2ms/step\n",
      "Test Accuracy: 0.8938082556591211\n",
      "Classification Report:\n",
      "               precision    recall  f1-score   support\n",
      "\n",
      "           0       0.88      0.91      0.89     10456\n",
      "           1       0.91      0.88      0.89     10572\n",
      "\n",
      "    accuracy                           0.89     21028\n",
      "   macro avg       0.89      0.89      0.89     21028\n",
      "weighted avg       0.89      0.89      0.89     21028\n",
      "\n"
     ]
    },
    {
     "data": {
      "text/plain": [
       "['storm_scaler.pkl']"
      ]
     },
     "execution_count": 1,
     "metadata": {},
     "output_type": "execute_result"
    }
   ],
   "source": [
    "import pandas as pd\n",
    "import numpy as np\n",
    "from sklearn.preprocessing import StandardScaler\n",
    "from sklearn.metrics import accuracy_score, classification_report\n",
    "from tensorflow.keras.models import Sequential\n",
    "from tensorflow.keras.layers import LSTM, Dropout, Dense\n",
    "from tensorflow.keras.optimizers import Adam\n",
    "from tensorflow.keras.regularizers import l2\n",
    "import joblib\n",
    "import tensorflow as tf\n",
    "\n",
    "# ===============================\n",
    "# Step 1: Import CSVs\n",
    "# ===============================\n",
    "train_df = pd.read_csv(\"/kaggle/input/mlpr-split-encoded-data/train (1).csv\")\n",
    "test_df = pd.read_csv(\"/kaggle/input/mlpr-split-encoded-data/test (2).csv\")\n",
    "\n",
    "# ===============================\n",
    "# Step 2: Feature list\n",
    "# ===============================\n",
    "features = [\n",
    "    'DEATHS_INDIRECT', 'INJURIES_DIRECT', 'INJURIES_INDIRECT', 'DEATHS_DIRECT',\n",
    "    'DAMAGE_PROPERTY', 'DAMAGE_CROPS', 'duration_hours',\n",
    "    'desc_word_count', 'has_tornado', 'has_hail', 'has_flood', 'has_wind',\n",
    "    'has_tree', 'has_broken', 'has_blown', 'tmin', 'tmax', 'tavg', 'ppt',\n",
    "    'MAGNITUDE_IMPUTED', 'STATE_FIPS'\n",
    "]\n",
    "\n",
    "# ===============================\n",
    "# Step 3: Sequence creation\n",
    "# ===============================\n",
    "def create_sequences(df, features, max_seq_length):\n",
    "    X, y = [], []\n",
    "    for state in df['st_abb'].unique():\n",
    "        state_df = df[df['st_abb'] == state].sort_values('power_outage_datetime')\n",
    "        state_features = state_df[features].values\n",
    "        state_target = state_df['is_storm_lagged'].values\n",
    "        for i in range(len(state_df)):\n",
    "            seq_start = max(0, i - max_seq_length + 1)\n",
    "            seq_data = state_features[seq_start:i + 1]\n",
    "            seq_len = len(seq_data)\n",
    "            if seq_len == 0:\n",
    "                continue\n",
    "            padded_seq = np.zeros((max_seq_length, len(features)))\n",
    "            padded_seq[-seq_len:] = seq_data\n",
    "            X.append(padded_seq)\n",
    "            y.append(state_target[i])\n",
    "    return np.array(X), np.array(y)\n",
    "\n",
    "# ===============================\n",
    "# Step 4: Data preparation\n",
    "# ===============================\n",
    "max_seq_length = 6\n",
    "X_train, y_train = create_sequences(train_df, features, max_seq_length)\n",
    "X_test, y_test = create_sequences(test_df, features, max_seq_length)\n",
    "\n",
    "scaler = StandardScaler()\n",
    "X_train_reshaped = X_train.reshape(-1, len(features))\n",
    "X_train_scaled = scaler.fit_transform(X_train_reshaped).reshape(X_train.shape)\n",
    "X_test_reshaped = X_test.reshape(-1, len(features))\n",
    "X_test_scaled = scaler.transform(X_test_reshaped).reshape(X_test.shape)\n",
    "\n",
    "# ===============================\n",
    "# Step 5: Train final model with best params\n",
    "# ===============================\n",
    "# Best parameters from Optuna\n",
    "best_params = {\n",
    "    'lstm_units': 66,\n",
    "    'dropout_rate': 0.5377800075562813,\n",
    "    'dense_units': 151,\n",
    "    'l2_reg': 0.00012795282112026385,\n",
    "    'learning_rate': 0.003748564127369342,\n",
    "    'batch_size': 16\n",
    "}\n",
    "\n",
    "final_model = Sequential()\n",
    "final_model.add(LSTM(\n",
    "    best_params['lstm_units'],\n",
    "    input_shape=(max_seq_length, len(features)),\n",
    "    kernel_regularizer=l2(best_params['l2_reg'])\n",
    "))\n",
    "final_model.add(Dropout(best_params['dropout_rate']))\n",
    "final_model.add(Dense(best_params['dense_units'], activation='relu', kernel_regularizer=l2(best_params['l2_reg'])))\n",
    "final_model.add(Dense(1, activation='sigmoid'))\n",
    "\n",
    "final_model.compile(\n",
    "    optimizer=Adam(learning_rate=best_params['learning_rate']),\n",
    "    loss='binary_crossentropy',\n",
    "    metrics=['accuracy']\n",
    ")\n",
    "\n",
    "final_model.fit(\n",
    "    X_train_scaled, y_train,\n",
    "    epochs=10,\n",
    "    batch_size=best_params['batch_size'],\n",
    "    verbose=1\n",
    ")\n",
    "\n",
    "# ===============================\n",
    "# Step 6: Evaluate and save\n",
    "# ===============================\n",
    "y_pred_prob = final_model.predict(X_test_scaled)\n",
    "y_pred = (y_pred_prob > 0.5).astype(int)\n",
    "\n",
    "print(\"Test Accuracy:\", accuracy_score(y_test, y_pred))\n",
    "print(\"Classification Report:\\n\", classification_report(y_test, y_pred))\n",
    "\n",
    "joblib.dump(final_model, 'storm_lstm_model.pkl')\n",
    "joblib.dump(scaler, 'storm_scaler.pkl')"
   ]
  }
 ],
 "metadata": {
  "kaggle": {
   "accelerator": "nvidiaTeslaT4",
   "dataSources": [
    {
     "datasetId": 7304854,
     "sourceId": 11641464,
     "sourceType": "datasetVersion"
    },
    {
     "datasetId": 7421190,
     "sourceId": 11815324,
     "sourceType": "datasetVersion"
    }
   ],
   "dockerImageVersionId": 31012,
   "isGpuEnabled": true,
   "isInternetEnabled": true,
   "language": "python",
   "sourceType": "notebook"
  },
  "kernelspec": {
   "display_name": "Python 3",
   "language": "python",
   "name": "python3"
  },
  "language_info": {
   "codemirror_mode": {
    "name": "ipython",
    "version": 3
   },
   "file_extension": ".py",
   "mimetype": "text/x-python",
   "name": "python",
   "nbconvert_exporter": "python",
   "pygments_lexer": "ipython3",
   "version": "3.11.11"
  }
 },
 "nbformat": 4,
 "nbformat_minor": 4
}
