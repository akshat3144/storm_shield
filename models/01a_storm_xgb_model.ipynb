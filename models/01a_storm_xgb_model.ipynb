{
 "cells": [
  {
   "cell_type": "code",
   "execution_count": null,
   "metadata": {
    "execution": {
     "iopub.execute_input": "2025-05-14T14:19:32.603510Z",
     "iopub.status.busy": "2025-05-14T14:19:32.603195Z",
     "iopub.status.idle": "2025-05-14T14:19:54.245922Z",
     "shell.execute_reply": "2025-05-14T14:19:54.244871Z",
     "shell.execute_reply.started": "2025-05-14T14:19:32.603486Z"
    },
    "trusted": true
   },
   "outputs": [
    {
     "name": "stdout",
     "output_type": "stream",
     "text": [
      "Storm Prediction Test Metrics (XGBoost):\n",
      "Accuracy : 0.9303\n",
      "Precision: 0.9344\n",
      "Recall   : 0.9264\n",
      "F1 Score : 0.9304\n",
      "\n",
      "Confusion Matrix:\n",
      "[[9768  688]\n",
      " [ 778 9794]]\n",
      "\n",
      "Classification Report:\n",
      "              precision    recall  f1-score   support\n",
      "\n",
      "           0       0.93      0.93      0.93     10456\n",
      "           1       0.93      0.93      0.93     10572\n",
      "\n",
      "    accuracy                           0.93     21028\n",
      "   macro avg       0.93      0.93      0.93     21028\n",
      "weighted avg       0.93      0.93      0.93     21028\n",
      "\n"
     ]
    }
   ],
   "source": [
    "import pandas as pd\n",
    "import joblib\n",
    "import xgboost as xgb\n",
    "from sklearn.preprocessing import StandardScaler\n",
    "from sklearn.metrics import accuracy_score, precision_score, recall_score, f1_score, confusion_matrix, classification_report\n",
    "\n",
    "# Load training and test data\n",
    "train_data = pd.read_csv('/kaggle/input/mlpr-data-split/train.csv')\n",
    "test_data = pd.read_csv('/kaggle/input/mlpr-data-split/test.csv')\n",
    "\n",
    "# Define features and target\n",
    "storm_features = [\n",
    "    'DEATHS_INDIRECT', 'INJURIES_DIRECT', 'INJURIES_INDIRECT', 'DEATHS_DIRECT',\n",
    "    'DAMAGE_PROPERTY', 'DAMAGE_CROPS', 'duration_hours',\n",
    "    'desc_word_count', 'has_tornado', 'has_hail', 'has_flood', 'has_wind',\n",
    "    'has_tree', 'has_broken', 'has_blown', 'tmin', 'tmax', 'tavg','ppt',\n",
    "    'MAGNITUDE_IMPUTED', 'STATE_FIPS'\n",
    "]\n",
    "target_col = 'is_storm_lagged'\n",
    "\n",
    "# Prepare training features and target\n",
    "X_train = train_data[storm_features]\n",
    "y_train = train_data[target_col]\n",
    "\n",
    "# Scale training features\n",
    "scaler = StandardScaler()\n",
    "X_train_scaled = scaler.fit_transform(X_train)\n",
    "\n",
    "# Initialize and train XGBoost model\n",
    "xgb_model = xgb.XGBClassifier(\n",
    "    n_estimators=271,\n",
    "    max_depth=27,\n",
    "    min_child_weight=1,\n",
    "    subsample=0.9496561162982775,\n",
    "    colsample_bytree=0.6753754188169535,\n",
    "    learning_rate=0.13297767767696025,\n",
    "    random_state=42,\n",
    "    eval_metric='logloss',\n",
    "    use_label_encoder=False\n",
    ")\n",
    "xgb_model.fit(X_train_scaled, y_train)\n",
    "\n",
    "# Prepare test features and target\n",
    "X_test = test_data[storm_features]\n",
    "y_test = test_data[target_col]\n",
    "X_test_scaled = scaler.transform(X_test)\n",
    "\n",
    "# Evaluate model on test data\n",
    "y_pred = xgb_model.predict(X_test_scaled)\n",
    "\n",
    "accuracy = accuracy_score(y_test, y_pred)\n",
    "precision = precision_score(y_test, y_pred, zero_division=0)\n",
    "recall = recall_score(y_test, y_pred, zero_division=0)\n",
    "f1 = f1_score(y_test, y_pred, zero_division=0)\n",
    "conf_matrix = confusion_matrix(y_test, y_pred)\n",
    "\n",
    "print(\"Storm Prediction Test Metrics (XGBoost):\")\n",
    "print(f\"Accuracy : {accuracy:.4f}\")\n",
    "print(f\"Precision: {precision:.4f}\")\n",
    "print(f\"Recall   : {recall:.4f}\")\n",
    "print(f\"F1 Score : {f1:.4f}\")\n",
    "print(\"\\nConfusion Matrix:\")\n",
    "print(conf_matrix)\n",
    "print(\"\\nClassification Report:\")\n",
    "print(classification_report(y_test, y_pred, zero_division=0))\n",
    "\n",
    "# Save the model and scaler\n",
    "joblib.dump(xgb_model, 'storm_xgb_model.pkl')\n",
    "joblib.dump(scaler, 'storm_scaler.pkl')"
   ]
  }
 ],
 "metadata": {
  "kaggle": {
   "accelerator": "nvidiaTeslaT4",
   "dataSources": [
    {
     "datasetId": 7304854,
     "sourceId": 11641464,
     "sourceType": "datasetVersion"
    }
   ],
   "dockerImageVersionId": 31012,
   "isGpuEnabled": true,
   "isInternetEnabled": true,
   "language": "python",
   "sourceType": "notebook"
  },
  "kernelspec": {
   "display_name": "Python 3",
   "language": "python",
   "name": "python3"
  },
  "language_info": {
   "codemirror_mode": {
    "name": "ipython",
    "version": 3
   },
   "file_extension": ".py",
   "mimetype": "text/x-python",
   "name": "python",
   "nbconvert_exporter": "python",
   "pygments_lexer": "ipython3",
   "version": "3.11.11"
  }
 },
 "nbformat": 4,
 "nbformat_minor": 4
}
