{
 "cells": [
  {
   "cell_type": "code",
   "execution_count": 1,
   "metadata": {
    "execution": {
     "iopub.execute_input": "2025-05-14T13:34:01.969939Z",
     "iopub.status.busy": "2025-05-14T13:34:01.969601Z",
     "iopub.status.idle": "2025-05-14T13:34:13.544704Z",
     "shell.execute_reply": "2025-05-14T13:34:13.543619Z",
     "shell.execute_reply.started": "2025-05-14T13:34:01.969911Z"
    },
    "trusted": true
   },
   "outputs": [],
   "source": [
    "import pandas as pd\n",
    "import joblib\n",
    "from sklearn.ensemble import RandomForestClassifier\n",
    "from sklearn.preprocessing import StandardScaler\n",
    "from sklearn.metrics import accuracy_score, precision_score, recall_score, f1_score, confusion_matrix, classification_report\n",
    "\n",
    "# Load data\n",
    "train_data = pd.read_csv('/kaggle/input/mlpr-data-split/train.csv')\n",
    "test_data = pd.read_csv('/kaggle/input/mlpr-data-split/test.csv')\n",
    "holdout_data = pd.read_csv('/kaggle/input/mlpr-data-split/holdout.csv')\n",
    "\n",
    "# Combine datasets for consistent encoding\n",
    "data = pd.concat([train_data, test_data, holdout_data], ignore_index=True)\n",
    "\n",
    "# Encoding using DAMAGE_PROPERTY (numerical, non-target variable)\n",
    "categorical_cols = ['EVENT_TYPE', 'stability', 'WFO']\n",
    "encoding_maps = {}\n",
    "\n",
    "# Compute encoding mappings from training data using DAMAGE_PROPERTY\n",
    "for col in categorical_cols:\n",
    "    if col in train_data.columns:\n",
    "        encoding_maps[col] = train_data.groupby(col)['ppt'].mean()\n",
    "\n",
    "# Apply encoding to combined data\n",
    "for col in categorical_cols:\n",
    "    if col in data.columns:\n",
    "        data[col + '_encoded'] = data[col].map(encoding_maps[col]).fillna(train_data['ppt'].mean())\n",
    "\n",
    "# Split back into train, test, holdout\n",
    "train_df = data.iloc[:len(train_data)]\n",
    "test_df = data.iloc[len(train_data):len(train_data) + len(test_data)]\n",
    "holdout_data = data.iloc[len(train_data) + len(test_data):]"
   ]
  },
  {
   "cell_type": "code",
   "execution_count": null,
   "metadata": {
    "execution": {
     "iopub.execute_input": "2025-05-14T13:34:13.546647Z",
     "iopub.status.busy": "2025-05-14T13:34:13.546281Z",
     "iopub.status.idle": "2025-05-14T13:34:14.109585Z",
     "shell.execute_reply": "2025-05-14T13:34:14.108612Z",
     "shell.execute_reply.started": "2025-05-14T13:34:13.546615Z"
    },
    "trusted": true
   },
   "outputs": [
    {
     "name": "stderr",
     "output_type": "stream",
     "text": [
      "/usr/local/lib/python3.11/dist-packages/numpy/core/fromnumeric.py:59: FutureWarning: 'DataFrame.swapaxes' is deprecated and will be removed in a future version. Please use 'DataFrame.transpose' instead.\n",
      "  return bound(*args, **kwds)\n",
      "/usr/local/lib/python3.11/dist-packages/numpy/core/fromnumeric.py:59: FutureWarning: 'DataFrame.swapaxes' is deprecated and will be removed in a future version. Please use 'DataFrame.transpose' instead.\n",
      "  return bound(*args, **kwds)\n"
     ]
    }
   ],
   "source": [
    "import pandas as pd\n",
    "import joblib\n",
    "import matplotlib.pyplot as plt\n",
    "from sklearn.ensemble import RandomForestClassifier\n",
    "from sklearn.preprocessing import StandardScaler\n",
    "from sklearn.metrics import (\n",
    "    accuracy_score, precision_score, recall_score, f1_score,\n",
    "    confusion_matrix, ConfusionMatrixDisplay\n",
    ")\n",
    "import pandas as pd\n",
    "import numpy as np\n",
    "\n",
    "# Function to split and process a DataFrame\n",
    "def process_df(df):\n",
    "    # Create storm lagged severity-based DataFrames\n",
    "    df_low = df[(df['is_storm_lagged'] == 1) & (df['severity_class'] == 0)].copy()\n",
    "    df_medium = df[(df['is_storm_lagged'] == 1) & (df['severity_class'] == 1)].copy()\n",
    "    df_high = df[(df['is_storm_lagged'] == 1) & (df['severity_class'] == 2)].copy()\n",
    "\n",
    "    # Add is_outage flag\n",
    "    for sub_df in [df_low, df_medium, df_high]:\n",
    "        sub_df['is_outage'] = (sub_df['customers_out'] > 0).astype(int)\n",
    "\n",
    "    # Process non-storm rows\n",
    "    non_storm_data = df[df['is_storm_lagged'] == 0].copy()\n",
    "    non_storm_data['is_outage'] = 0\n",
    "    non_storm_data['severity_class'] = 10  # Placeholder\n",
    "\n",
    "    # Shuffle and split non-storm rows\n",
    "    non_storm_split = np.array_split(non_storm_data.sample(frac=1, random_state=42), 3)\n",
    "    non_storm_low, non_storm_medium, non_storm_high = non_storm_split\n",
    "\n",
    "    # Augment original DataFrames\n",
    "    df_low = pd.concat([df_low, non_storm_low], ignore_index=True)\n",
    "    df_medium = pd.concat([df_medium, non_storm_medium], ignore_index=True)\n",
    "    df_high = pd.concat([df_high, non_storm_high], ignore_index=True)\n",
    "\n",
    "    return df_low, df_medium, df_high\n",
    "\n",
    "# Process both train and test DataFrames\n",
    "train_low, train_medium, train_high = process_df(train_df)\n",
    "test_low, test_medium, test_high = process_df(test_df)\n",
    "\n",
    "outage_features = [\n",
    "    'tmin', 'tmax', 'tavg', 'stability_encoded',\n",
    "    'EVENT_TYPE_encoded', 'duration_hours', 'desc_word_count',\n",
    "    'has_tornado', 'has_hail', 'has_flood', 'has_wind', 'has_tree',\n",
    "    'has_broken', 'has_blown', 'DAMAGE_PROPERTY', 'DAMAGE_CROPS',\n",
    "    'INJURIES_DIRECT', 'DEATHS_DIRECT', 'CZ_FIPS'\n",
    "]"
   ]
  },
  {
   "cell_type": "markdown",
   "metadata": {},
   "source": [
    "# Low Severity"
   ]
  },
  {
   "cell_type": "code",
   "execution_count": 3,
   "metadata": {
    "execution": {
     "iopub.execute_input": "2025-05-14T13:34:27.862583Z",
     "iopub.status.busy": "2025-05-14T13:34:27.862248Z",
     "iopub.status.idle": "2025-05-14T13:34:40.474606Z",
     "shell.execute_reply": "2025-05-14T13:34:40.473581Z",
     "shell.execute_reply.started": "2025-05-14T13:34:27.862561Z"
    },
    "trusted": true
   },
   "outputs": [
    {
     "name": "stdout",
     "output_type": "stream",
     "text": [
      "[LightGBM] [Info] Number of positive: 22426, number of negative: 24427\n",
      "[LightGBM] [Info] Auto-choosing row-wise multi-threading, the overhead of testing was 0.008519 seconds.\n",
      "You can set `force_row_wise=true` to remove the overhead.\n",
      "And if memory is not enough, you can set `force_col_wise=true`.\n",
      "[LightGBM] [Info] Total Bins 1850\n",
      "[LightGBM] [Info] Number of data points in the train set: 46853, number of used features: 18\n",
      "[LightGBM] [Info] [binary:BoostFromScore]: pavg=0.478646 -> initscore=-0.085468\n",
      "[LightGBM] [Info] Start training from score -0.085468\n",
      "Accuracy: 0.9783\n",
      "Precision (weighted): 0.9784\n",
      "Recall (weighted): 0.9783\n",
      "F1 Score (weighted): 0.9783\n"
     ]
    },
    {
     "data": {
      "image/png": "[encoded data removed]",
      "text/plain": [
       "<Figure size 640x480 with 2 Axes>"
      ]
     },
     "metadata": {},
     "output_type": "display_data"
    },
    {
     "data": {
      "text/plain": [
       "['/kaggle/working/low_severity_scaler.pkl']"
      ]
     },
     "execution_count": 3,
     "metadata": {},
     "output_type": "execute_result"
    }
   ],
   "source": [
    "import lightgbm as lgb\n",
    "\n",
    "# ----------------- PREPARE FEATURES -----------------\n",
    "X_train = train_low[outage_features]\n",
    "y_train = train_low['is_outage']\n",
    "\n",
    "X_test = test_low[outage_features]\n",
    "y_test = test_low['is_outage']\n",
    "\n",
    "# ----------------- SCALE FEATURES -----------------\n",
    "scaler = StandardScaler()\n",
    "X_train_scaled = scaler.fit_transform(X_train)\n",
    "X_test_scaled = scaler.transform(X_test)\n",
    "\n",
    "# ----------------- TRAIN MODEL -----------------\n",
    "lgb_model = lgb.LGBMClassifier(\n",
    "    n_estimators = 319,\n",
    "    learning_rate = 0.047847333909262976,\n",
    "    num_leaves = 281,\n",
    "    max_depth = 20,\n",
    "    min_child_samples = 22,\n",
    "    subsample = 0.527136639688917,\n",
    "    colsample_bytree = 0.8326768083509417,\n",
    "    random_state = 42\n",
    ")\n",
    "lgb_model.fit(X_train_scaled, y_train)\n",
    "\n",
    "# ----------------- EVALUATE -----------------\n",
    "y_pred = lgb_model.predict(X_test_scaled)\n",
    "\n",
    "accuracy = accuracy_score(y_test, y_pred)\n",
    "precision = precision_score(y_test, y_pred, average='weighted', zero_division=0)\n",
    "recall = recall_score(y_test, y_pred, average='weighted', zero_division=0)\n",
    "f1 = f1_score(y_test, y_pred, average='weighted', zero_division=0)\n",
    "\n",
    "print(f\"Accuracy: {accuracy:.4f}\")\n",
    "print(f\"Precision (weighted): {precision:.4f}\")\n",
    "print(f\"Recall (weighted): {recall:.4f}\")\n",
    "print(f\"F1 Score (weighted): {f1:.4f}\")\n",
    "\n",
    "# ----------------- CONFUSION MATRIX -----------------\n",
    "cm = confusion_matrix(y_test, y_pred)\n",
    "disp = ConfusionMatrixDisplay(confusion_matrix=cm)\n",
    "disp.plot(cmap=plt.cm.Blues)\n",
    "plt.title(\"Confusion Matrix\")\n",
    "plt.show()\n",
    "\n",
    "# ----------------- EXPORT MODEL AND SCALER -----------------\n",
    "joblib.dump(lgb_model, '/kaggle/working/low_severity_lgm_model.pkl')\n",
    "joblib.dump(scaler, '/kaggle/working/low_severity_scaler.pkl')"
   ]
  },
  {
   "cell_type": "markdown",
   "metadata": {},
   "source": [
    "# Medium Severity"
   ]
  },
  {
   "cell_type": "code",
   "execution_count": 18,
   "metadata": {
    "execution": {
     "iopub.execute_input": "2025-05-14T09:50:00.655137Z",
     "iopub.status.busy": "2025-05-14T09:50:00.654800Z",
     "iopub.status.idle": "2025-05-14T09:50:03.407792Z",
     "shell.execute_reply": "2025-05-14T09:50:03.406709Z",
     "shell.execute_reply.started": "2025-05-14T09:50:00.655115Z"
    },
    "trusted": true
   },
   "outputs": [
    {
     "name": "stdout",
     "output_type": "stream",
     "text": [
      "Accuracy: 0.9601\n",
      "Precision (weighted): 0.9609\n",
      "Recall (weighted): 0.9601\n",
      "F1 Score (weighted): 0.9601\n"
     ]
    },
    {
     "data": {
      "image/png": "[encoded data removed]",
      "text/plain": [
       "<Figure size 640x480 with 2 Axes>"
      ]
     },
     "metadata": {},
     "output_type": "display_data"
    }
   ],
   "source": [
    "import xgboost as xgb\n",
    "from sklearn.metrics import (\n",
    "    f1_score, accuracy_score, precision_score,\n",
    "    recall_score, confusion_matrix, ConfusionMatrixDisplay\n",
    ")\n",
    "from sklearn.preprocessing import StandardScaler\n",
    "import matplotlib.pyplot as plt\n",
    "\n",
    "# ----------------- PREPARE FEATURES -----------------\n",
    "X_train = train_medium[outage_features]\n",
    "y_train = train_medium['is_outage']\n",
    "X_test = test_medium[outage_features]\n",
    "y_test = test_medium['is_outage']\n",
    "\n",
    "# ----------------- SCALE FEATURES -----------------\n",
    "scaler = StandardScaler()\n",
    "X_train_scaled = scaler.fit_transform(X_train)\n",
    "X_test_scaled = scaler.transform(X_test)\n",
    "\n",
    "# ----------------- BEST PARAMETERS -----------------\n",
    "best_params = {\n",
    "    'n_estimators': 284,\n",
    "    'max_depth': 15,\n",
    "    'learning_rate': 0.07917066358756152,\n",
    "    'subsample': 0.8015700617998658,\n",
    "    'colsample_bytree': 0.5290123884596338,\n",
    "    'gamma': 0.03854854253333355,\n",
    "    'reg_alpha': 0.13733556293746432,\n",
    "    'reg_lambda': 0.9769107444083599,\n",
    "    'random_state': 42,\n",
    "    'use_label_encoder': False,\n",
    "    'eval_metric': 'logloss',\n",
    "    'n_jobs': -1\n",
    "}\n",
    "\n",
    "# ----------------- TRAIN FINAL MODEL -----------------\n",
    "model = xgb.XGBClassifier(**best_params)\n",
    "model.fit(X_train_scaled, y_train)\n",
    "\n",
    "# ----------------- EVALUATE -----------------\n",
    "y_pred = model.predict(X_test_scaled)\n",
    "\n",
    "accuracy = accuracy_score(y_test, y_pred)\n",
    "precision = precision_score(y_test, y_pred, average='weighted', zero_division=0)\n",
    "recall = recall_score(y_test, y_pred, average='weighted', zero_division=0)\n",
    "f1 = f1_score(y_test, y_pred, average='weighted', zero_division=0)\n",
    "\n",
    "print(f\"Accuracy: {accuracy:.4f}\")\n",
    "print(f\"Precision (weighted): {precision:.4f}\")\n",
    "print(f\"Recall (weighted): {recall:.4f}\")\n",
    "print(f\"F1 Score (weighted): {f1:.4f}\")\n",
    "\n",
    "# ----------------- CONFUSION MATRIX -----------------\n",
    "cm = confusion_matrix(y_test, y_pred)\n",
    "disp = ConfusionMatrixDisplay(confusion_matrix=cm)\n",
    "disp.plot(cmap=plt.cm.Blues)\n",
    "plt.title(\"Confusion Matrix - XGBoost (Tuned)\")\n",
    "plt.show()"
   ]
  },
  {
   "cell_type": "markdown",
   "metadata": {},
   "source": [
    "# High Severity"
   ]
  },
  {
   "cell_type": "code",
   "execution_count": 5,
   "metadata": {
    "execution": {
     "iopub.execute_input": "2025-05-14T13:55:22.808390Z",
     "iopub.status.busy": "2025-05-14T13:55:22.807562Z",
     "iopub.status.idle": "2025-05-14T13:55:30.762028Z",
     "shell.execute_reply": "2025-05-14T13:55:30.761025Z",
     "shell.execute_reply.started": "2025-05-14T13:55:22.808361Z"
    },
    "trusted": true
   },
   "outputs": [
    {
     "name": "stdout",
     "output_type": "stream",
     "text": [
      "Accuracy: 0.9656\n",
      "Precision (weighted): 0.9664\n",
      "Recall (weighted): 0.9656\n",
      "F1 Score (weighted): 0.9657\n"
     ]
    },
    {
     "data": {
      "image/png": "[encoded data removed]",
      "text/plain": [
       "<Figure size 640x480 with 2 Axes>"
      ]
     },
     "metadata": {},
     "output_type": "display_data"
    },
    {
     "data": {
      "text/plain": [
       "['/kaggle/working/high_severity_scaler.pkl']"
      ]
     },
     "execution_count": 5,
     "metadata": {},
     "output_type": "execute_result"
    }
   ],
   "source": [
    "# ----------------- PREPARE FEATURES -----------------\n",
    "X_train = train_high[outage_features]\n",
    "y_train = train_high['is_outage']\n",
    "\n",
    "X_test = test_high[outage_features]\n",
    "y_test = test_high['is_outage']\n",
    "\n",
    "# ----------------- SCALE FEATURES -----------------\n",
    "scaler = StandardScaler()\n",
    "X_train_scaled = scaler.fit_transform(X_train)\n",
    "X_test_scaled = scaler.transform(X_test)\n",
    "\n",
    "# ----------------- TRAIN MODEL -----------------\n",
    "rf_model = RandomForestClassifier(\n",
    "    n_estimators=201,\n",
    "    max_depth=38,\n",
    "    min_samples_split=4,\n",
    "    min_samples_leaf=1,\n",
    "    max_features='sqrt',\n",
    "    bootstrap=False,\n",
    "    random_state=42,\n",
    "    n_jobs=-1\n",
    ")\n",
    "rf_model.fit(X_train_scaled, y_train)\n",
    "\n",
    "# ----------------- EVALUATE -----------------\n",
    "y_pred = rf_model.predict(X_test_scaled)\n",
    "\n",
    "accuracy = accuracy_score(y_test, y_pred)\n",
    "precision = precision_score(y_test, y_pred, average='weighted', zero_division=0)\n",
    "recall = recall_score(y_test, y_pred, average='weighted', zero_division=0)\n",
    "f1 = f1_score(y_test, y_pred, average='weighted', zero_division=0)\n",
    "\n",
    "print(f\"Accuracy: {accuracy:.4f}\")\n",
    "print(f\"Precision (weighted): {precision:.4f}\")\n",
    "print(f\"Recall (weighted): {recall:.4f}\")\n",
    "print(f\"F1 Score (weighted): {f1:.4f}\")\n",
    "\n",
    "# ----------------- CONFUSION MATRIX -----------------\n",
    "cm = confusion_matrix(y_test, y_pred)\n",
    "disp = ConfusionMatrixDisplay(confusion_matrix=cm)\n",
    "disp.plot(cmap=plt.cm.Blues)\n",
    "plt.title(\"Confusion Matrix\")\n",
    "plt.show()\n",
    "\n",
    "# ----------------- EXPORT MODEL -----------------\n",
    "joblib.dump(rf_model, '/kaggle/working/high_severity_rf_model.pkl')\n",
    "joblib.dump(scaler, '/kaggle/working/high_severity_scaler.pkl')"
   ]
  }
 ],
 "metadata": {
  "kaggle": {
   "accelerator": "none",
   "dataSources": [
    {
     "datasetId": 7304854,
     "sourceId": 11641464,
     "sourceType": "datasetVersion"
    }
   ],
   "dockerImageVersionId": 31012,
   "isGpuEnabled": false,
   "isInternetEnabled": true,
   "language": "python",
   "sourceType": "notebook"
  },
  "kernelspec": {
   "display_name": "Python 3",
   "language": "python",
   "name": "python3"
  },
  "language_info": {
   "codemirror_mode": {
    "name": "ipython",
    "version": 3
   },
   "file_extension": ".py",
   "mimetype": "text/x-python",
   "name": "python",
   "nbconvert_exporter": "python",
   "pygments_lexer": "ipython3",
   "version": "3.11.11"
  }
 },
 "nbformat": 4,
 "nbformat_minor": 4
}
