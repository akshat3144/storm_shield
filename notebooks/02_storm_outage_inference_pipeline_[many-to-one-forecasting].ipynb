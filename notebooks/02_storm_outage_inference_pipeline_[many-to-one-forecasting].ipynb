{
 "cells": [
  {
   "cell_type": "code",
   "execution_count": 10,
   "metadata": {
    "execution": {
     "iopub.execute_input": "2025-05-17T21:45:28.007666Z",
     "iopub.status.busy": "2025-05-17T21:45:28.007132Z",
     "iopub.status.idle": "2025-05-17T21:45:29.086231Z",
     "shell.execute_reply": "2025-05-17T21:45:29.085492Z",
     "shell.execute_reply.started": "2025-05-17T21:45:28.007632Z"
    },
    "trusted": true
   },
   "outputs": [],
   "source": [
    "import pandas as pd\n",
    "import joblib\n",
    "from sklearn.ensemble import RandomForestClassifier\n",
    "from sklearn.preprocessing import StandardScaler\n",
    "from sklearn.metrics import accuracy_score, precision_score, recall_score, f1_score, confusion_matrix, classification_report\n",
    "\n",
    "data = pd.read_csv('/kaggle/input/mlpr-split-encoded-data/holdout (1).csv')"
   ]
  },
  {
   "cell_type": "markdown",
   "metadata": {},
   "source": [
    "# 1) Storm Forecasting"
   ]
  },
  {
   "cell_type": "code",
   "execution_count": 11,
   "metadata": {
    "execution": {
     "iopub.execute_input": "2025-05-17T21:45:29.087244Z",
     "iopub.status.busy": "2025-05-17T21:45:29.086980Z",
     "iopub.status.idle": "2025-05-17T21:45:33.573469Z",
     "shell.execute_reply": "2025-05-17T21:45:33.572348Z",
     "shell.execute_reply.started": "2025-05-17T21:45:29.087226Z"
    },
    "trusted": true
   },
   "outputs": [
    {
     "name": "stdout",
     "output_type": "stream",
     "text": [
      "\u001b[1m1315/1315\u001b[0m \u001b[32m━━━━━━━━━━━━━━━━━━━━\u001b[0m\u001b[37m\u001b[0m \u001b[1m3s\u001b[0m 2ms/step\n",
      "Storm Prediction Metrics:\n",
      "Accuracy : 0.8981\n",
      "Precision: 0.9133\n",
      "Recall   : 0.8853\n",
      "F1 Score : 0.8991\n",
      "\n",
      "Confusion Matrix:\n",
      "[[18681  1812]\n",
      " [ 2473 19089]]\n",
      "\n",
      "Classification Report:\n",
      "              precision    recall  f1-score   support\n",
      "\n",
      "           0       0.88      0.91      0.90     20493\n",
      "           1       0.91      0.89      0.90     21562\n",
      "\n",
      "    accuracy                           0.90     42055\n",
      "   macro avg       0.90      0.90      0.90     42055\n",
      "weighted avg       0.90      0.90      0.90     42055\n",
      "\n"
     ]
    }
   ],
   "source": [
    "import pandas as pd\n",
    "import numpy as np\n",
    "import joblib\n",
    "from sklearn.metrics import accuracy_score, precision_score, recall_score, f1_score, confusion_matrix, classification_report\n",
    "from tensorflow.keras.models import load_model\n",
    "\n",
    "storm_features = [\n",
    "    'DEATHS_INDIRECT', 'INJURIES_DIRECT', 'INJURIES_INDIRECT', 'DEATHS_DIRECT',\n",
    "    'DAMAGE_PROPERTY', 'DAMAGE_CROPS', 'duration_hours',\n",
    "    'desc_word_count', 'has_tornado', 'has_hail', 'has_flood', 'has_wind',\n",
    "    'has_tree', 'has_broken', 'has_blown', 'tmin', 'tmax', 'tavg', 'ppt',\n",
    "    'MAGNITUDE_IMPUTED', 'STATE_FIPS'\n",
    "]\n",
    "target_col = 'is_storm_lagged'\n",
    "max_seq_length = 6\n",
    "\n",
    "storm_model = joblib.load('/kaggle/input/storm_lstm_model/tensorflow2/default/1/storm_lstm_model (1).pkl')\n",
    "scaler = joblib.load('/kaggle/input/storm_lstm_model/tensorflow2/default/1/storm_scaler (4).pkl')\n",
    "\n",
    "def create_sequences(df, features, max_seq_length):\n",
    "    X, y, indices = [], [], []\n",
    "    for state in df['st_abb'].unique():\n",
    "        state_df = df[df['st_abb'] == state].sort_values('power_outage_datetime')\n",
    "        state_features = state_df[features].values\n",
    "        state_target = state_df[target_col].values\n",
    "        for i in range(len(state_df)):\n",
    "            seq_start = max(0, i - max_seq_length + 1)\n",
    "            seq_data = state_features[seq_start:i + 1]\n",
    "            seq_len = len(seq_data)\n",
    "            if seq_len == 0:\n",
    "                continue\n",
    "            padded_seq = np.zeros((max_seq_length, len(features)))\n",
    "            padded_seq[-seq_len:] = seq_data\n",
    "            X.append(padded_seq)\n",
    "            y.append(state_target[i])\n",
    "            indices.append(state_df.index[i])\n",
    "    return np.array(X), np.array(y), indices\n",
    "\n",
    "X_seq, y_seq, idx_seq = create_sequences(data, storm_features, max_seq_length)\n",
    "\n",
    "# Scale the data\n",
    "X_seq_reshaped = X_seq.reshape(-1, len(storm_features))\n",
    "X_seq_scaled = scaler.transform(X_seq_reshaped).reshape(X_seq.shape)\n",
    "\n",
    "storm_probs = storm_model.predict(X_seq_scaled)\n",
    "storm_preds = (storm_probs > 0.5).astype(int).flatten()\n",
    "\n",
    "data['predicted_storm'] = 0  # Initialize\n",
    "data.loc[idx_seq, 'predicted_storm'] = storm_preds\n",
    "\n",
    "# ===============================\n",
    "# Evaluate model\n",
    "# ===============================\n",
    "y_true = data.loc[idx_seq, target_col]\n",
    "y_pred = data.loc[idx_seq, 'predicted_storm']\n",
    "\n",
    "accuracy = accuracy_score(y_true, y_pred)\n",
    "precision = precision_score(y_true, y_pred, zero_division=0)\n",
    "recall = recall_score(y_true, y_pred, zero_division=0)\n",
    "f1_storm = f1_score(y_true, y_pred, zero_division=0)\n",
    "conf_matrix = confusion_matrix(y_true, y_pred)\n",
    "\n",
    "print(\"Storm Prediction Metrics:\")\n",
    "print(f\"Accuracy : {accuracy:.4f}\")\n",
    "print(f\"Precision: {precision:.4f}\")\n",
    "print(f\"Recall   : {recall:.4f}\")\n",
    "print(f\"F1 Score : {f1_storm:.4f}\")\n",
    "print(\"\\nConfusion Matrix:\")\n",
    "print(conf_matrix)\n",
    "print(\"\\nClassification Report:\")\n",
    "print(classification_report(y_true, y_pred, zero_division=0))\n",
    "\n",
    "storm_data = data[data['predicted_storm'] == 1].copy()"
   ]
  },
  {
   "cell_type": "markdown",
   "metadata": {},
   "source": [
    "# 2) Severity Prediction"
   ]
  },
  {
   "cell_type": "code",
   "execution_count": 12,
   "metadata": {
    "execution": {
     "iopub.execute_input": "2025-05-17T21:45:33.575408Z",
     "iopub.status.busy": "2025-05-17T21:45:33.574467Z",
     "iopub.status.idle": "2025-05-17T21:45:36.874528Z",
     "shell.execute_reply": "2025-05-17T21:45:36.873726Z",
     "shell.execute_reply.started": "2025-05-17T21:45:33.575382Z"
    },
    "trusted": true
   },
   "outputs": [
    {
     "name": "stderr",
     "output_type": "stream",
     "text": [
      "/usr/local/lib/python3.11/dist-packages/sklearn/base.py:439: UserWarning: X does not have valid feature names, but StandardScaler was fitted with feature names\n",
      "  warnings.warn(\n"
     ]
    },
    {
     "name": "stdout",
     "output_type": "stream",
     "text": [
      "Severity Prediction Metrics:\n",
      "Accuracy : 0.9196\n",
      "Precision: 0.9198\n",
      "Recall   : 0.9196\n",
      "F1 Score : 0.9197\n",
      "\n",
      "Confusion Matrix:\n",
      "[[6606  177   93    0]\n",
      " [ 140 6040  630    0]\n",
      " [  69  565 6493    0]\n",
      " [   6    0    0   82]]\n",
      "\n",
      "Classification Report:\n",
      "              precision    recall  f1-score   support\n",
      "\n",
      "           0       0.97      0.96      0.96      6876\n",
      "           1       0.89      0.89      0.89      6810\n",
      "           2       0.90      0.91      0.91      7127\n",
      "          10       1.00      0.93      0.96        88\n",
      "\n",
      "    accuracy                           0.92     20901\n",
      "   macro avg       0.94      0.92      0.93     20901\n",
      "weighted avg       0.92      0.92      0.92     20901\n",
      "\n"
     ]
    }
   ],
   "source": [
    "# ----------------- SEVERITY PREDICTION -----------------\n",
    "\n",
    "# Define severity features\n",
    "severity_features = [\n",
    "    'DEATHS_INDIRECT', 'INJURIES_DIRECT', 'INJURIES_INDIRECT', 'DEATHS_DIRECT',\n",
    "    'DAMAGE_PROPERTY', 'DAMAGE_CROPS', 'duration_hours',\n",
    "    'desc_word_count', 'has_tornado', 'has_hail', 'has_flood', 'has_wind',\n",
    "    'has_tree', 'has_broken', 'has_blown', 'tmin', 'tmax', 'tavg',\n",
    "    'EVENT_TYPE_encoded', 'stability_encoded', 'CZ_FIPS', 'WFO_encoded'\n",
    "]\n",
    "target_col = 'severity_class'\n",
    "\n",
    "# Load severity model and scaler\n",
    "severity_model = joblib.load('/kaggle/input/severity_lgb_model-1/scikitlearn/default/1/severity_lgb_model (1).pkl')\n",
    "severity_scaler = joblib.load('/kaggle/input/severity_lgb_model-1/scikitlearn/default/1/severity_scaler (3).pkl')\n",
    "\n",
    "# Prepare features and scale\n",
    "X = storm_data[severity_features].values\n",
    "X_scaled = severity_scaler.transform(X)\n",
    "\n",
    "# Severity prediction\n",
    "severity_preds = severity_model.predict(X_scaled)\n",
    "storm_data['predicted_severity'] = severity_preds\n",
    "\n",
    "# Evaluate severity model\n",
    "y_true = storm_data[target_col]\n",
    "y_pred = storm_data['predicted_severity']\n",
    "accuracy = accuracy_score(y_true, y_pred)\n",
    "precision = precision_score(y_true, y_pred, average='weighted', zero_division=0)\n",
    "recall = recall_score(y_true, y_pred, average='weighted', zero_division=0)\n",
    "f1_severity = f1_score(y_true, y_pred, average='weighted', zero_division=0)\n",
    "conf_matrix = confusion_matrix(y_true, y_pred)\n",
    "\n",
    "severity_counts = y_true.value_counts().sort_index()  # Counts of true Low (0), Medium (1), High (2)\n",
    "support_low = severity_counts.get(0, 0)\n",
    "support_medium = severity_counts.get(1, 0)\n",
    "support_high = severity_counts.get(2, 0)\n",
    "total_support = support_low + support_medium + support_high\n",
    "\n",
    "print(\"Severity Prediction Metrics:\")\n",
    "print(f\"Accuracy : {accuracy:.4f}\")\n",
    "print(f\"Precision: {precision:.4f}\")\n",
    "print(f\"Recall   : {recall:.4f}\")\n",
    "print(f\"F1 Score : {f1_severity:.4f}\")\n",
    "print(\"\\nConfusion Matrix:\")\n",
    "print(conf_matrix)\n",
    "print(\"\\nClassification Report:\")\n",
    "print(classification_report(y_true, y_pred, zero_division=0))\n",
    "\n",
    "# Filter severity cases\n",
    "low_severity_data = storm_data[storm_data['predicted_severity'] == 0].copy()\n",
    "med_severity_data = storm_data[storm_data['predicted_severity'] == 1].copy()\n",
    "high_severity_data = storm_data[storm_data['predicted_severity'] == 2].copy()"
   ]
  },
  {
   "cell_type": "markdown",
   "metadata": {},
   "source": [
    "# 3) Outage Prediction"
   ]
  },
  {
   "cell_type": "code",
   "execution_count": 13,
   "metadata": {
    "execution": {
     "iopub.execute_input": "2025-05-17T21:45:36.875516Z",
     "iopub.status.busy": "2025-05-17T21:45:36.875313Z",
     "iopub.status.idle": "2025-05-17T21:45:36.957893Z",
     "shell.execute_reply": "2025-05-17T21:45:36.957049Z",
     "shell.execute_reply.started": "2025-05-17T21:45:36.875500Z"
    },
    "trusted": true
   },
   "outputs": [
    {
     "name": "stderr",
     "output_type": "stream",
     "text": [
      "/usr/local/lib/python3.11/dist-packages/numpy/core/fromnumeric.py:59: FutureWarning: 'DataFrame.swapaxes' is deprecated and will be removed in a future version. Please use 'DataFrame.transpose' instead.\n",
      "  return bound(*args, **kwds)\n"
     ]
    }
   ],
   "source": [
    "import numpy as np\n",
    "\n",
    "# Derive is_outage target (assuming customers_out > 0 indicates an outage)\n",
    "for df in [low_severity_data, med_severity_data, high_severity_data]:\n",
    "    df['is_outage'] = (df['customers_out'] > 0).astype(int)\n",
    "\n",
    "# Extract non-storm rows from storm_df_with_predictions\n",
    "non_storm_data = data[data['predicted_storm'] == 0].copy()\n",
    "non_storm_data['is_outage'] = 0  # No outage for non-storm events\n",
    "non_storm_data['predicted_severity'] = 10  # Placeholder for non-storm rows\n",
    "\n",
    "# Randomly split non-storm rows across the three DataFrames\n",
    "non_storm_split = np.array_split(non_storm_data.sample(frac=1, random_state=42), 3)\n",
    "non_storm_low, non_storm_medium, non_storm_high = non_storm_split\n",
    "\n",
    "# Augment DataFrames with non-storm rows\n",
    "low_severity_data = pd.concat([low_severity_data, non_storm_low], ignore_index=True)\n",
    "med_severity_data = pd.concat([med_severity_data, non_storm_medium], ignore_index=True)\n",
    "high_severity_data = pd.concat([high_severity_data, non_storm_high], ignore_index=True)"
   ]
  },
  {
   "cell_type": "code",
   "execution_count": 14,
   "metadata": {
    "execution": {
     "iopub.execute_input": "2025-05-17T21:45:36.959233Z",
     "iopub.status.busy": "2025-05-17T21:45:36.958933Z",
     "iopub.status.idle": "2025-05-17T21:45:36.963962Z",
     "shell.execute_reply": "2025-05-17T21:45:36.963251Z",
     "shell.execute_reply.started": "2025-05-17T21:45:36.959206Z"
    },
    "trusted": true
   },
   "outputs": [],
   "source": [
    "outage_features = [\n",
    "    'tmin', 'tmax', 'tavg', 'stability_encoded',\n",
    "    'EVENT_TYPE_encoded', 'duration_hours', 'desc_word_count',\n",
    "    'has_tornado', 'has_hail', 'has_flood', 'has_wind', 'has_tree',\n",
    "    'has_broken', 'has_blown', 'DAMAGE_PROPERTY', 'DAMAGE_CROPS',\n",
    "    'INJURIES_DIRECT', 'DEATHS_DIRECT', 'CZ_FIPS'\n",
    "]\n",
    "target_col = 'is_outage'"
   ]
  },
  {
   "cell_type": "markdown",
   "metadata": {},
   "source": [
    "### a. Low"
   ]
  },
  {
   "cell_type": "code",
   "execution_count": 15,
   "metadata": {
    "execution": {
     "iopub.execute_input": "2025-05-17T21:45:36.965185Z",
     "iopub.status.busy": "2025-05-17T21:45:36.964853Z",
     "iopub.status.idle": "2025-05-17T21:45:37.638827Z",
     "shell.execute_reply": "2025-05-17T21:45:37.637835Z",
     "shell.execute_reply.started": "2025-05-17T21:45:36.965160Z"
    },
    "trusted": true
   },
   "outputs": [
    {
     "name": "stdout",
     "output_type": "stream",
     "text": [
      "Outage Prediction Metrics:\n",
      "Accuracy : 0.9850\n",
      "Precision: 0.9891\n",
      "Recall   : 0.9801\n",
      "F1 Score : 0.9846\n",
      "\n",
      "Confusion Matrix:\n",
      "[[7010   73]\n",
      " [ 135 6655]]\n",
      "\n",
      "Classification Report:\n",
      "              precision    recall  f1-score   support\n",
      "\n",
      "           0       0.98      0.99      0.99      7083\n",
      "           1       0.99      0.98      0.98      6790\n",
      "\n",
      "    accuracy                           0.99     13873\n",
      "   macro avg       0.99      0.98      0.98     13873\n",
      "weighted avg       0.99      0.99      0.99     13873\n",
      "\n"
     ]
    }
   ],
   "source": [
    "import joblib\n",
    "import pandas as pd\n",
    "from sklearn.metrics import accuracy_score, precision_score, recall_score, f1_score, confusion_matrix, classification_report\n",
    "\n",
    "# ----------------- LOAD MODEL AND SCALER -----------------\n",
    "outage_model = joblib.load('/kaggle/input/low_severity_lgm_model-1/scikitlearn/default/1/low_severity_lgm_model (1).pkl')\n",
    "scaler = joblib.load('/kaggle/input/low_severity_lgm_model-1/scikitlearn/default/1/low_severity_scaler (3).pkl')\n",
    "\n",
    "# ----------------- PREPARE FEATURES -----------------\n",
    "X = low_severity_data[outage_features]\n",
    "\n",
    "# ----------------- SCALE FEATURES -----------------\n",
    "X_scaled = scaler.transform(X)\n",
    "\n",
    "# ----------------- SEVERITY PREDICTION -----------------\n",
    "outage_pred = outage_model.predict(X_scaled)\n",
    "\n",
    "# ----------------- TRUE AND PREDICTED LABELS -----------------\n",
    "target_col = 'is_outage'  # Assuming this is the target column based on prior context\n",
    "y_true_outage = low_severity_data[target_col]\n",
    "y_pred_outage = outage_pred\n",
    "\n",
    "# ----------------- METRIC CALCULATIONS -----------------\n",
    "accuracy = accuracy_score(y_true_outage, y_pred_outage)\n",
    "precision = precision_score(y_true_outage, y_pred_outage, average='binary', zero_division=0)\n",
    "recall = recall_score(y_true_outage, y_pred_outage, average='binary', zero_division=0)\n",
    "f1_low = f1_score(y_true_outage, y_pred_outage, average='binary', zero_division=0)\n",
    "conf_matrix = confusion_matrix(y_true_outage, y_pred_outage)\n",
    "\n",
    "# ----------------- OUTPUT -----------------\n",
    "print(\"Outage Prediction Metrics:\")\n",
    "print(f\"Accuracy : {accuracy:.4f}\")\n",
    "print(f\"Precision: {precision:.4f}\")\n",
    "print(f\"Recall   : {recall:.4f}\")\n",
    "print(f\"F1 Score : {f1_low:.4f}\")\n",
    "print(\"\\nConfusion Matrix:\")\n",
    "print(conf_matrix)\n",
    "print(\"\\nClassification Report:\")\n",
    "print(classification_report(y_true_outage, y_pred_outage, zero_division=0))"
   ]
  },
  {
   "cell_type": "markdown",
   "metadata": {},
   "source": [
    "### b. Medium"
   ]
  },
  {
   "cell_type": "code",
   "execution_count": 16,
   "metadata": {
    "execution": {
     "iopub.execute_input": "2025-05-17T21:45:37.640210Z",
     "iopub.status.busy": "2025-05-17T21:45:37.639884Z",
     "iopub.status.idle": "2025-05-17T21:45:37.842576Z",
     "shell.execute_reply": "2025-05-17T21:45:37.841797Z",
     "shell.execute_reply.started": "2025-05-17T21:45:37.640183Z"
    },
    "trusted": true
   },
   "outputs": [
    {
     "name": "stdout",
     "output_type": "stream",
     "text": [
      "Outage Prediction Metrics:\n",
      "Accuracy : 0.9775\n",
      "Precision: 0.9884\n",
      "Recall   : 0.9654\n",
      "F1 Score : 0.9768\n",
      "\n",
      "Confusion Matrix:\n",
      "[[6985   77]\n",
      " [ 234 6537]]\n",
      "\n",
      "Classification Report:\n",
      "              precision    recall  f1-score   support\n",
      "\n",
      "           0       0.97      0.99      0.98      7062\n",
      "           1       0.99      0.97      0.98      6771\n",
      "\n",
      "    accuracy                           0.98     13833\n",
      "   macro avg       0.98      0.98      0.98     13833\n",
      "weighted avg       0.98      0.98      0.98     13833\n",
      "\n"
     ]
    }
   ],
   "source": [
    "import joblib\n",
    "import pandas as pd\n",
    "from sklearn.metrics import accuracy_score, precision_score, recall_score, f1_score, confusion_matrix, classification_report\n",
    "\n",
    "# ----------------- LOAD MODEL AND SCALER -----------------\n",
    "outage_model = joblib.load('/kaggle/input/medium_severity_xgb_model/scikitlearn/default/1/medium_severity_xgb_model.pkl')\n",
    "scaler = joblib.load('/kaggle/input/medium_severity_xgb_model/scikitlearn/default/1/medium_severity_scaler (1).pkl')\n",
    "\n",
    "# ----------------- PREPARE FEATURES -----------------\n",
    "X = med_severity_data[outage_features]\n",
    "\n",
    "# ----------------- SCALE FEATURES -----------------\n",
    "X_scaled = scaler.transform(X)\n",
    "\n",
    "# ----------------- SEVERITY PREDICTION -----------------\n",
    "outage_pred = outage_model.predict(X_scaled)\n",
    "\n",
    "# ----------------- TRUE AND PREDICTED LABELS -----------------\n",
    "target_col = 'is_outage'  # Assuming this is the target column based on prior context\n",
    "y_true_outage = med_severity_data[target_col]\n",
    "y_pred_outage = outage_pred\n",
    "\n",
    "# ----------------- METRIC CALCULATIONS -----------------\n",
    "accuracy = accuracy_score(y_true_outage, y_pred_outage)\n",
    "precision = precision_score(y_true_outage, y_pred_outage, average='binary', zero_division=0)\n",
    "recall = recall_score(y_true_outage, y_pred_outage, average='binary', zero_division=0)\n",
    "f1_medium = f1_score(y_true_outage, y_pred_outage, average='binary', zero_division=0)\n",
    "conf_matrix = confusion_matrix(y_true_outage, y_pred_outage)\n",
    "\n",
    "# ----------------- OUTPUT -----------------\n",
    "print(\"Outage Prediction Metrics:\")\n",
    "print(f\"Accuracy : {accuracy:.4f}\")\n",
    "print(f\"Precision: {precision:.4f}\")\n",
    "print(f\"Recall   : {recall:.4f}\")\n",
    "print(f\"F1 Score : {f1_medium:.4f}\")\n",
    "print(\"\\nConfusion Matrix:\")\n",
    "print(conf_matrix)\n",
    "print(\"\\nClassification Report:\")\n",
    "print(classification_report(y_true_outage, y_pred_outage, zero_division=0))"
   ]
  },
  {
   "cell_type": "markdown",
   "metadata": {},
   "source": [
    "### c. High"
   ]
  },
  {
   "cell_type": "code",
   "execution_count": 17,
   "metadata": {
    "execution": {
     "iopub.execute_input": "2025-05-17T21:45:37.844537Z",
     "iopub.status.busy": "2025-05-17T21:45:37.843603Z",
     "iopub.status.idle": "2025-05-17T21:45:38.238009Z",
     "shell.execute_reply": "2025-05-17T21:45:38.237231Z",
     "shell.execute_reply.started": "2025-05-17T21:45:37.844511Z"
    },
    "trusted": true
   },
   "outputs": [
    {
     "name": "stdout",
     "output_type": "stream",
     "text": [
      "Outage Prediction Metrics (High Severity):\n",
      "Accuracy : 0.9694\n",
      "Precision: 0.9846\n",
      "Recall   : 0.9543\n",
      "F1 Score : 0.9692\n",
      "\n",
      "Confusion Matrix:\n",
      "[[6968  107]\n",
      " [ 329 6863]]\n",
      "\n",
      "Classification Report:\n",
      "              precision    recall  f1-score   support\n",
      "\n",
      "           0       0.95      0.98      0.97      7075\n",
      "           1       0.98      0.95      0.97      7192\n",
      "\n",
      "    accuracy                           0.97     14267\n",
      "   macro avg       0.97      0.97      0.97     14267\n",
      "weighted avg       0.97      0.97      0.97     14267\n",
      "\n"
     ]
    }
   ],
   "source": [
    "import joblib\n",
    "import pandas as pd\n",
    "from sklearn.metrics import accuracy_score, precision_score, recall_score, f1_score, confusion_matrix, classification_report\n",
    "\n",
    "# ----------------- LOAD MODEL AND SCALER -----------------\n",
    "outage_model = joblib.load('/kaggle/input/high_severity_rf_model-2/scikitlearn/default/1/high_severity_rf_model (2).pkl')\n",
    "scaler = joblib.load('/kaggle/input/high_severity_rf_model-2/scikitlearn/default/1/high_severity_scaler (2).pkl')\n",
    "\n",
    "# ----------------- PREPARE FEATURES -----------------\n",
    "X = high_severity_data[outage_features]\n",
    "\n",
    "# ----------------- SCALE FEATURES -----------------\n",
    "X_scaled = scaler.transform(X)\n",
    "\n",
    "# ----------------- SEVERITY PREDICTION -----------------\n",
    "outage_pred = outage_model.predict(X_scaled)\n",
    "\n",
    "# ----------------- TRUE AND PREDICTED LABELS -----------------\n",
    "target_col = 'is_outage'  # Assuming this is the target column based on prior context\n",
    "y_true_outage = high_severity_data[target_col]\n",
    "y_pred_outage = outage_pred\n",
    "\n",
    "# ----------------- METRIC CALCULATIONS -----------------\n",
    "accuracy = accuracy_score(y_true_outage, y_pred_outage)\n",
    "precision = precision_score(y_true_outage, y_pred_outage, average='binary', zero_division=0)\n",
    "recall = recall_score(y_true_outage, y_pred_outage, average='binary', zero_division=0)\n",
    "f1_high = f1_score(y_true_outage, y_pred_outage, average='binary', zero_division=0)\n",
    "conf_matrix = confusion_matrix(y_true_outage, y_pred_outage)\n",
    "\n",
    "# ----------------- OUTPUT -----------------\n",
    "print(\"Outage Prediction Metrics (High Severity):\")\n",
    "print(f\"Accuracy : {accuracy:.4f}\")\n",
    "print(f\"Precision: {precision:.4f}\")\n",
    "print(f\"Recall   : {recall:.4f}\")\n",
    "print(f\"F1 Score : {f1_high:.4f}\")\n",
    "print(\"\\nConfusion Matrix:\")\n",
    "print(conf_matrix)\n",
    "print(\"\\nClassification Report:\")\n",
    "print(classification_report(y_true_outage, y_pred_outage, zero_division=0))"
   ]
  },
  {
   "cell_type": "code",
   "execution_count": 18,
   "metadata": {
    "execution": {
     "iopub.execute_input": "2025-05-17T21:45:38.239213Z",
     "iopub.status.busy": "2025-05-17T21:45:38.238870Z",
     "iopub.status.idle": "2025-05-17T21:45:38.244754Z",
     "shell.execute_reply": "2025-05-17T21:45:38.243890Z",
     "shell.execute_reply.started": "2025-05-17T21:45:38.239181Z"
    },
    "trusted": true
   },
   "outputs": [
    {
     "name": "stdout",
     "output_type": "stream",
     "text": [
      "\n",
      "Overall Model Evaluation:\n",
      "F1 Storm: 0.8991\n",
      "F1 Severity (macro): 0.9197\n",
      "Weights - Low: 0.330, Medium: 0.327, High: 0.342\n",
      "F1 Low: 0.9846, F1 Medium: 0.9768, F1 High: 0.9692\n",
      "Overall Metric (F1_storm * F1_severity * (wL*F1L + wM*F1M + wH*F1H)): 0.8077\n"
     ]
    }
   ],
   "source": [
    "# Compute weights based on true severity supports\n",
    "w_low = support_low / total_support\n",
    "w_medium = support_medium / total_support\n",
    "w_high = support_high / total_support\n",
    "\n",
    "# Compute the overall evaluation metric\n",
    "overall_metric = f1_storm * f1_severity * (w_low * f1_low + w_medium * f1_medium + w_high * f1_high)\n",
    "\n",
    "# Print the results\n",
    "print(\"\\nOverall Model Evaluation:\")\n",
    "print(f\"F1 Storm: {f1_storm:.4f}\")\n",
    "print(f\"F1 Severity (macro): {f1_severity:.4f}\")\n",
    "print(f\"Weights - Low: {w_low:.3f}, Medium: {w_medium:.3f}, High: {w_high:.3f}\")\n",
    "print(f\"F1 Low: {f1_low:.4f}, F1 Medium: {f1_medium:.4f}, F1 High: {f1_high:.4f}\")\n",
    "print(f\"Overall Metric (F1_storm * F1_severity * (wL*F1L + wM*F1M + wH*F1H)): {overall_metric:.4f}\")"
   ]
  }
 ],
 "metadata": {
  "kaggle": {
   "accelerator": "none",
   "dataSources": [
    {
     "datasetId": 7304854,
     "sourceId": 11641464,
     "sourceType": "datasetVersion"
    },
    {
     "datasetId": 7421190,
     "sourceId": 11815324,
     "sourceType": "datasetVersion"
    },
    {
     "modelId": 342690,
     "modelInstanceId": 322046,
     "sourceId": 391083,
     "sourceType": "modelInstanceVersion"
    },
    {
     "modelId": 343201,
     "modelInstanceId": 322511,
     "sourceId": 391688,
     "sourceType": "modelInstanceVersion"
    },
    {
     "modelId": 343546,
     "modelInstanceId": 322858,
     "sourceId": 392113,
     "sourceType": "modelInstanceVersion"
    },
    {
     "modelId": 343559,
     "modelInstanceId": 322873,
     "sourceId": 392130,
     "sourceType": "modelInstanceVersion"
    },
    {
     "modelId": 343563,
     "modelInstanceId": 322877,
     "sourceId": 392135,
     "sourceType": "modelInstanceVersion"
    },
    {
     "isSourceIdPinned": true,
     "modelId": 348090,
     "modelInstanceId": 327199,
     "sourceId": 399808,
     "sourceType": "modelInstanceVersion"
    }
   ],
   "dockerImageVersionId": 31012,
   "isGpuEnabled": false,
   "isInternetEnabled": true,
   "language": "python",
   "sourceType": "notebook"
  },
  "kernelspec": {
   "display_name": "Python 3",
   "language": "python",
   "name": "python3"
  },
  "language_info": {
   "codemirror_mode": {
    "name": "ipython",
    "version": 3
   },
   "file_extension": ".py",
   "mimetype": "text/x-python",
   "name": "python",
   "nbconvert_exporter": "python",
   "pygments_lexer": "ipython3",
   "version": "3.11.11"
  }
 },
 "nbformat": 4,
 "nbformat_minor": 4
}
