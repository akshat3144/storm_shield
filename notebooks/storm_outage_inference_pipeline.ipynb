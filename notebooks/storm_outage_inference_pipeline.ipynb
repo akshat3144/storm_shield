{
 "cells": [
  {
   "cell_type": "code",
   "execution_count": 1,
   "metadata": {
    "execution": {
     "iopub.execute_input": "2025-05-14T22:30:06.144144Z",
     "iopub.status.busy": "2025-05-14T22:30:06.143522Z",
     "iopub.status.idle": "2025-05-14T22:30:09.433081Z",
     "shell.execute_reply": "2025-05-14T22:30:09.432123Z",
     "shell.execute_reply.started": "2025-05-14T22:30:06.144113Z"
    },
    "trusted": true
   },
   "outputs": [],
   "source": [
    "import pandas as pd\n",
    "import joblib\n",
    "from sklearn.ensemble import RandomForestClassifier\n",
    "from sklearn.preprocessing import StandardScaler\n",
    "from sklearn.metrics import accuracy_score, precision_score, recall_score, f1_score, confusion_matrix, classification_report\n",
    "\n",
    "data = pd.read_csv('/kaggle/input/mlpr-split-encoded-data/holdout (1).csv')"
   ]
  },
  {
   "cell_type": "markdown",
   "metadata": {},
   "source": [
    "# 1) Storm Prediction"
   ]
  },
  {
   "cell_type": "code",
   "execution_count": 2,
   "metadata": {
    "execution": {
     "iopub.execute_input": "2025-05-14T22:30:09.435369Z",
     "iopub.status.busy": "2025-05-14T22:30:09.434780Z",
     "iopub.status.idle": "2025-05-14T22:30:11.440928Z",
     "shell.execute_reply": "2025-05-14T22:30:11.440106Z",
     "shell.execute_reply.started": "2025-05-14T22:30:09.435342Z"
    },
    "trusted": true
   },
   "outputs": [
    {
     "name": "stderr",
     "output_type": "stream",
     "text": [
      "/usr/local/lib/python3.11/dist-packages/sklearn/base.py:439: UserWarning: X does not have valid feature names, but StandardScaler was fitted with feature names\n",
      "  warnings.warn(\n"
     ]
    },
    {
     "name": "stdout",
     "output_type": "stream",
     "text": [
      "Storm Prediction Metrics:\n",
      "Accuracy : 0.9294\n",
      "Precision: 0.9345\n",
      "Recall   : 0.9272\n",
      "F1 Score : 0.9308\n",
      "\n",
      "Confusion Matrix:\n",
      "[[19091  1402]\n",
      " [ 1569 19993]]\n",
      "\n",
      "Classification Report:\n",
      "              precision    recall  f1-score   support\n",
      "\n",
      "           0       0.92      0.93      0.93     20493\n",
      "           1       0.93      0.93      0.93     21562\n",
      "\n",
      "    accuracy                           0.93     42055\n",
      "   macro avg       0.93      0.93      0.93     42055\n",
      "weighted avg       0.93      0.93      0.93     42055\n",
      "\n"
     ]
    }
   ],
   "source": [
    "# Define features\n",
    "storm_features = [\n",
    "    'DEATHS_INDIRECT', 'INJURIES_DIRECT', 'INJURIES_INDIRECT', 'DEATHS_DIRECT',\n",
    "    'DAMAGE_PROPERTY', 'DAMAGE_CROPS', 'duration_hours',\n",
    "    'desc_word_count', 'has_tornado', 'has_hail', 'has_flood', 'has_wind',\n",
    "    'has_tree', 'has_broken', 'has_blown', 'tmin', 'tmax', 'tavg', 'ppt',\n",
    "    'MAGNITUDE_IMPUTED', 'STATE_FIPS'\n",
    "]\n",
    "target_col = 'is_storm_lagged'\n",
    "\n",
    "# Load storm model and scaler\n",
    "storm_model = joblib.load('/kaggle/input/storm_xgb_model/scikitlearn/default/1/storm_xgb_model (1).pkl')\n",
    "scaler = joblib.load('/kaggle/input/storm_xgb_model/scikitlearn/default/1/storm_scaler (2).pkl')\n",
    "\n",
    "# Prepare features and scale\n",
    "X = data[storm_features].values  # Convert to NumPy array to avoid feature name warning\n",
    "X_scaled = scaler.transform(X)    # Apply scaling\n",
    "\n",
    "# Storm prediction\n",
    "storm_preds = storm_model.predict(X_scaled)\n",
    "\n",
    "# Add predictions to DataFrame\n",
    "data['predicted_storm'] = storm_preds\n",
    "\n",
    "# Evaluate model\n",
    "y_true = data[target_col]\n",
    "y_pred = data['predicted_storm']\n",
    "accuracy = accuracy_score(y_true, y_pred)\n",
    "precision = precision_score(y_true, y_pred, zero_division=0)\n",
    "recall = recall_score(y_true, y_pred, zero_division=0)\n",
    "f1_storm = f1_score(y_true, y_pred, zero_division=0)\n",
    "conf_matrix = confusion_matrix(y_true, y_pred)\n",
    "\n",
    "print(\"Storm Prediction Metrics:\")\n",
    "print(f\"Accuracy : {accuracy:.4f}\")\n",
    "print(f\"Precision: {precision:.4f}\")\n",
    "print(f\"Recall   : {recall:.4f}\")\n",
    "print(f\"F1 Score : {f1_storm:.4f}\")\n",
    "print(\"\\nConfusion Matrix:\")\n",
    "print(conf_matrix)\n",
    "print(\"\\nClassification Report:\")\n",
    "print(classification_report(y_true, y_pred, zero_division=0))\n",
    "\n",
    "# Filter storm cases\n",
    "storm_data = data[data['predicted_storm'] == 1].copy()"
   ]
  },
  {
   "cell_type": "markdown",
   "metadata": {},
   "source": [
    "# 2) Severity Prediction"
   ]
  },
  {
   "cell_type": "code",
   "execution_count": 5,
   "metadata": {
    "execution": {
     "iopub.execute_input": "2025-05-14T22:30:11.472024Z",
     "iopub.status.busy": "2025-05-14T22:30:11.471716Z",
     "iopub.status.idle": "2025-05-14T22:30:22.964799Z",
     "shell.execute_reply": "2025-05-14T22:30:22.963689Z",
     "shell.execute_reply.started": "2025-05-14T22:30:11.471994Z"
    },
    "trusted": true
   },
   "outputs": [
    {
     "name": "stderr",
     "output_type": "stream",
     "text": [
      "/usr/local/lib/python3.11/dist-packages/sklearn/base.py:439: UserWarning: X does not have valid feature names, but StandardScaler was fitted with feature names\n",
      "  warnings.warn(\n"
     ]
    },
    {
     "name": "stdout",
     "output_type": "stream",
     "text": [
      "Severity Prediction Metrics:\n",
      "Accuracy : 0.9328\n",
      "Precision: 0.9330\n",
      "Recall   : 0.9328\n",
      "F1 Score : 0.9329\n",
      "\n",
      "Confusion Matrix:\n",
      "[[6437  151   86    0]\n",
      " [ 127 5667  526    0]\n",
      " [  63  478 6073    0]\n",
      " [   5    0    1 1781]]\n",
      "\n",
      "Classification Report:\n",
      "              precision    recall  f1-score   support\n",
      "\n",
      "           0       0.97      0.96      0.97      6674\n",
      "           1       0.90      0.90      0.90      6320\n",
      "           2       0.91      0.92      0.91      6614\n",
      "          10       1.00      1.00      1.00      1787\n",
      "\n",
      "    accuracy                           0.93     21395\n",
      "   macro avg       0.94      0.94      0.94     21395\n",
      "weighted avg       0.93      0.93      0.93     21395\n",
      "\n"
     ]
    }
   ],
   "source": [
    "# ----------------- SEVERITY PREDICTION -----------------\n",
    "\n",
    "# Define severity features\n",
    "severity_features = [\n",
    "    'DEATHS_INDIRECT', 'INJURIES_DIRECT', 'INJURIES_INDIRECT', 'DEATHS_DIRECT',\n",
    "    'DAMAGE_PROPERTY', 'DAMAGE_CROPS', 'duration_hours',\n",
    "    'desc_word_count', 'has_tornado', 'has_hail', 'has_flood', 'has_wind',\n",
    "    'has_tree', 'has_broken', 'has_blown', 'tmin', 'tmax', 'tavg',\n",
    "    'EVENT_TYPE_encoded', 'stability_encoded', 'CZ_FIPS', 'WFO_encoded'\n",
    "]\n",
    "target_col = 'severity_class'\n",
    "\n",
    "# Load severity model and scaler\n",
    "severity_model = joblib.load('/kaggle/input/severity_lgb_model-1/scikitlearn/default/1/severity_lgb_model (1).pkl')\n",
    "severity_scaler = joblib.load('/kaggle/input/severity_lgb_model-1/scikitlearn/default/1/severity_scaler (3).pkl')\n",
    "\n",
    "# Prepare features and scale\n",
    "X = storm_data[severity_features].values\n",
    "X_scaled = severity_scaler.transform(X)\n",
    "\n",
    "# Severity prediction\n",
    "severity_preds = severity_model.predict(X_scaled)\n",
    "storm_data['predicted_severity'] = severity_preds\n",
    "\n",
    "# Evaluate severity model\n",
    "y_true = storm_data[target_col]\n",
    "y_pred = storm_data['predicted_severity']\n",
    "accuracy = accuracy_score(y_true, y_pred)\n",
    "precision = precision_score(y_true, y_pred, average='weighted', zero_division=0)\n",
    "recall = recall_score(y_true, y_pred, average='weighted', zero_division=0)\n",
    "f1_severity = f1_score(y_true, y_pred, average='weighted', zero_division=0)\n",
    "conf_matrix = confusion_matrix(y_true, y_pred)\n",
    "\n",
    "severity_counts = y_true.value_counts().sort_index()  # Counts of true Low (0), Medium (1), High (2)\n",
    "support_low = severity_counts.get(0, 0)\n",
    "support_medium = severity_counts.get(1, 0)\n",
    "support_high = severity_counts.get(2, 0)\n",
    "total_support = support_low + support_medium + support_high\n",
    "\n",
    "print(\"Severity Prediction Metrics:\")\n",
    "print(f\"Accuracy : {accuracy:.4f}\")\n",
    "print(f\"Precision: {precision:.4f}\")\n",
    "print(f\"Recall   : {recall:.4f}\")\n",
    "print(f\"F1 Score : {f1_severity:.4f}\")\n",
    "print(\"\\nConfusion Matrix:\")\n",
    "print(conf_matrix)\n",
    "print(\"\\nClassification Report:\")\n",
    "print(classification_report(y_true, y_pred, zero_division=0))\n",
    "\n",
    "# Filter severity cases\n",
    "low_severity_data = storm_data[storm_data['predicted_severity'] == 0].copy()\n",
    "med_severity_data = storm_data[storm_data['predicted_severity'] == 1].copy()\n",
    "high_severity_data = storm_data[storm_data['predicted_severity'] == 2].copy()"
   ]
  },
  {
   "cell_type": "markdown",
   "metadata": {},
   "source": [
    "# 3) Outage Prediction"
   ]
  },
  {
   "cell_type": "code",
   "execution_count": 6,
   "metadata": {
    "execution": {
     "iopub.execute_input": "2025-05-14T22:30:22.966463Z",
     "iopub.status.busy": "2025-05-14T22:30:22.965777Z",
     "iopub.status.idle": "2025-05-14T22:30:23.050923Z",
     "shell.execute_reply": "2025-05-14T22:30:23.049936Z",
     "shell.execute_reply.started": "2025-05-14T22:30:22.966429Z"
    },
    "trusted": true
   },
   "outputs": [
    {
     "name": "stderr",
     "output_type": "stream",
     "text": [
      "/usr/local/lib/python3.11/dist-packages/numpy/core/fromnumeric.py:59: FutureWarning: 'DataFrame.swapaxes' is deprecated and will be removed in a future version. Please use 'DataFrame.transpose' instead.\n",
      "  return bound(*args, **kwds)\n"
     ]
    }
   ],
   "source": [
    "import numpy as np\n",
    "\n",
    "# Derive is_outage target (assuming customers_out > 0 indicates an outage)\n",
    "for df in [low_severity_data, med_severity_data, high_severity_data]:\n",
    "    df['is_outage'] = (df['customers_out'] > 0).astype(int)\n",
    "\n",
    "# Extract non-storm rows from storm_df_with_predictions\n",
    "non_storm_data = data[data['predicted_storm'] == 0].copy()\n",
    "non_storm_data['is_outage'] = 0  # No outage for non-storm events\n",
    "non_storm_data['predicted_severity'] = 10  # Placeholder for non-storm rows\n",
    "\n",
    "# Randomly split non-storm rows across the three DataFrames\n",
    "non_storm_split = np.array_split(non_storm_data.sample(frac=1, random_state=42), 3)\n",
    "non_storm_low, non_storm_medium, non_storm_high = non_storm_split\n",
    "\n",
    "# Augment DataFrames with non-storm rows\n",
    "low_severity_data = pd.concat([low_severity_data, non_storm_low], ignore_index=True)\n",
    "med_severity_data = pd.concat([med_severity_data, non_storm_medium], ignore_index=True)\n",
    "high_severity_data = pd.concat([high_severity_data, non_storm_high], ignore_index=True)"
   ]
  },
  {
   "cell_type": "code",
   "execution_count": 7,
   "metadata": {
    "execution": {
     "iopub.execute_input": "2025-05-14T22:30:23.052080Z",
     "iopub.status.busy": "2025-05-14T22:30:23.051800Z",
     "iopub.status.idle": "2025-05-14T22:30:23.056699Z",
     "shell.execute_reply": "2025-05-14T22:30:23.055871Z",
     "shell.execute_reply.started": "2025-05-14T22:30:23.052051Z"
    },
    "trusted": true
   },
   "outputs": [],
   "source": [
    "outage_features = [\n",
    "    'tmin', 'tmax', 'tavg', 'stability_encoded',\n",
    "    'EVENT_TYPE_encoded', 'duration_hours', 'desc_word_count',\n",
    "    'has_tornado', 'has_hail', 'has_flood', 'has_wind', 'has_tree',\n",
    "    'has_broken', 'has_blown', 'DAMAGE_PROPERTY', 'DAMAGE_CROPS',\n",
    "    'INJURIES_DIRECT', 'DEATHS_DIRECT', 'CZ_FIPS'\n",
    "]\n",
    "target_col = 'is_outage'"
   ]
  },
  {
   "cell_type": "markdown",
   "metadata": {},
   "source": [
    "### a. Low"
   ]
  },
  {
   "cell_type": "code",
   "execution_count": 8,
   "metadata": {
    "execution": {
     "iopub.execute_input": "2025-05-14T22:30:23.058090Z",
     "iopub.status.busy": "2025-05-14T22:30:23.057729Z",
     "iopub.status.idle": "2025-05-14T22:30:23.821001Z",
     "shell.execute_reply": "2025-05-14T22:30:23.820144Z",
     "shell.execute_reply.started": "2025-05-14T22:30:23.058058Z"
    },
    "trusted": true
   },
   "outputs": [
    {
     "name": "stdout",
     "output_type": "stream",
     "text": [
      "Outage Prediction Metrics:\n",
      "Accuracy : 0.9879\n",
      "Precision: 0.9799\n",
      "Recall   : 0.9958\n",
      "F1 Score : 0.9878\n",
      "\n",
      "Confusion Matrix:\n",
      "[[6781  135]\n",
      " [  28 6575]]\n",
      "\n",
      "Classification Report:\n",
      "              precision    recall  f1-score   support\n",
      "\n",
      "           0       1.00      0.98      0.99      6916\n",
      "           1       0.98      1.00      0.99      6603\n",
      "\n",
      "    accuracy                           0.99     13519\n",
      "   macro avg       0.99      0.99      0.99     13519\n",
      "weighted avg       0.99      0.99      0.99     13519\n",
      "\n"
     ]
    }
   ],
   "source": [
    "import joblib\n",
    "import pandas as pd\n",
    "from sklearn.metrics import accuracy_score, precision_score, recall_score, f1_score, confusion_matrix, classification_report\n",
    "\n",
    "# ----------------- LOAD MODEL AND SCALER -----------------\n",
    "outage_model = joblib.load('/kaggle/input/low_severity_lgm_model-1/scikitlearn/default/1/low_severity_lgm_model (1).pkl')\n",
    "scaler = joblib.load('/kaggle/input/low_severity_lgm_model-1/scikitlearn/default/1/low_severity_scaler (3).pkl')\n",
    "\n",
    "# ----------------- PREPARE FEATURES -----------------\n",
    "X = low_severity_data[outage_features]\n",
    "\n",
    "# ----------------- SCALE FEATURES -----------------\n",
    "X_scaled = scaler.transform(X)\n",
    "\n",
    "# ----------------- SEVERITY PREDICTION -----------------\n",
    "outage_pred = outage_model.predict(X_scaled)\n",
    "\n",
    "# ----------------- TRUE AND PREDICTED LABELS -----------------\n",
    "target_col = 'is_outage'  # Assuming this is the target column based on prior context\n",
    "y_true_outage = low_severity_data[target_col]\n",
    "y_pred_outage = outage_pred\n",
    "\n",
    "# ----------------- METRIC CALCULATIONS -----------------\n",
    "accuracy = accuracy_score(y_true_outage, y_pred_outage)\n",
    "precision = precision_score(y_true_outage, y_pred_outage, average='binary', zero_division=0)\n",
    "recall = recall_score(y_true_outage, y_pred_outage, average='binary', zero_division=0)\n",
    "f1_low = f1_score(y_true_outage, y_pred_outage, average='binary', zero_division=0)\n",
    "conf_matrix = confusion_matrix(y_true_outage, y_pred_outage)\n",
    "\n",
    "# ----------------- OUTPUT -----------------\n",
    "print(\"Outage Prediction Metrics:\")\n",
    "print(f\"Accuracy : {accuracy:.4f}\")\n",
    "print(f\"Precision: {precision:.4f}\")\n",
    "print(f\"Recall   : {recall:.4f}\")\n",
    "print(f\"F1 Score : {f1_low:.4f}\")\n",
    "print(\"\\nConfusion Matrix:\")\n",
    "print(conf_matrix)\n",
    "print(\"\\nClassification Report:\")\n",
    "print(classification_report(y_true_outage, y_pred_outage, zero_division=0))"
   ]
  },
  {
   "cell_type": "markdown",
   "metadata": {},
   "source": [
    "### b. Medium"
   ]
  },
  {
   "cell_type": "code",
   "execution_count": 9,
   "metadata": {
    "execution": {
     "iopub.execute_input": "2025-05-14T22:30:23.822188Z",
     "iopub.status.busy": "2025-05-14T22:30:23.821934Z",
     "iopub.status.idle": "2025-05-14T22:30:24.074400Z",
     "shell.execute_reply": "2025-05-14T22:30:24.073579Z",
     "shell.execute_reply.started": "2025-05-14T22:30:23.822171Z"
    },
    "trusted": true
   },
   "outputs": [
    {
     "name": "stdout",
     "output_type": "stream",
     "text": [
      "Outage Prediction Metrics:\n",
      "Accuracy : 0.9747\n",
      "Precision: 0.9587\n",
      "Recall   : 0.9897\n",
      "F1 Score : 0.9739\n",
      "\n",
      "Confusion Matrix:\n",
      "[[6630  268]\n",
      " [  65 6220]]\n",
      "\n",
      "Classification Report:\n",
      "              precision    recall  f1-score   support\n",
      "\n",
      "           0       0.99      0.96      0.98      6898\n",
      "           1       0.96      0.99      0.97      6285\n",
      "\n",
      "    accuracy                           0.97     13183\n",
      "   macro avg       0.97      0.98      0.97     13183\n",
      "weighted avg       0.98      0.97      0.97     13183\n",
      "\n"
     ]
    }
   ],
   "source": [
    "import joblib\n",
    "import pandas as pd\n",
    "from sklearn.metrics import accuracy_score, precision_score, recall_score, f1_score, confusion_matrix, classification_report\n",
    "\n",
    "# ----------------- LOAD MODEL AND SCALER -----------------\n",
    "outage_model = joblib.load('/kaggle/input/medium_severity_xgb_model/scikitlearn/default/1/medium_severity_xgb_model.pkl')\n",
    "scaler = joblib.load('/kaggle/input/medium_severity_xgb_model/scikitlearn/default/1/medium_severity_scaler (1).pkl')\n",
    "\n",
    "# ----------------- PREPARE FEATURES -----------------\n",
    "X = med_severity_data[outage_features]\n",
    "\n",
    "# ----------------- SCALE FEATURES -----------------\n",
    "X_scaled = scaler.transform(X)\n",
    "\n",
    "# ----------------- SEVERITY PREDICTION -----------------\n",
    "outage_pred = outage_model.predict(X_scaled)\n",
    "\n",
    "# ----------------- TRUE AND PREDICTED LABELS -----------------\n",
    "target_col = 'is_outage'  # Assuming this is the target column based on prior context\n",
    "y_true_outage = med_severity_data[target_col]\n",
    "y_pred_outage = outage_pred\n",
    "\n",
    "# ----------------- METRIC CALCULATIONS -----------------\n",
    "accuracy = accuracy_score(y_true_outage, y_pred_outage)\n",
    "precision = precision_score(y_true_outage, y_pred_outage, average='binary', zero_division=0)\n",
    "recall = recall_score(y_true_outage, y_pred_outage, average='binary', zero_division=0)\n",
    "f1_medium = f1_score(y_true_outage, y_pred_outage, average='binary', zero_division=0)\n",
    "conf_matrix = confusion_matrix(y_true_outage, y_pred_outage)\n",
    "\n",
    "# ----------------- OUTPUT -----------------\n",
    "print(\"Outage Prediction Metrics:\")\n",
    "print(f\"Accuracy : {accuracy:.4f}\")\n",
    "print(f\"Precision: {precision:.4f}\")\n",
    "print(f\"Recall   : {recall:.4f}\")\n",
    "print(f\"F1 Score : {f1_medium:.4f}\")\n",
    "print(\"\\nConfusion Matrix:\")\n",
    "print(conf_matrix)\n",
    "print(\"\\nClassification Report:\")\n",
    "print(classification_report(y_true_outage, y_pred_outage, zero_division=0))"
   ]
  },
  {
   "cell_type": "markdown",
   "metadata": {},
   "source": [
    "### c. High"
   ]
  },
  {
   "cell_type": "code",
   "execution_count": 10,
   "metadata": {
    "execution": {
     "iopub.execute_input": "2025-05-14T22:30:24.076520Z",
     "iopub.status.busy": "2025-05-14T22:30:24.076284Z",
     "iopub.status.idle": "2025-05-14T22:30:25.138595Z",
     "shell.execute_reply": "2025-05-14T22:30:25.137894Z",
     "shell.execute_reply.started": "2025-05-14T22:30:24.076502Z"
    },
    "trusted": true
   },
   "outputs": [
    {
     "name": "stdout",
     "output_type": "stream",
     "text": [
      "Outage Prediction Metrics (High Severity):\n",
      "Accuracy : 0.9757\n",
      "Precision: 0.9640\n",
      "Recall   : 0.9874\n",
      "F1 Score : 0.9755\n",
      "\n",
      "Confusion Matrix:\n",
      "[[6664  246]\n",
      " [  84 6578]]\n",
      "\n",
      "Classification Report:\n",
      "              precision    recall  f1-score   support\n",
      "\n",
      "           0       0.99      0.96      0.98      6910\n",
      "           1       0.96      0.99      0.98      6662\n",
      "\n",
      "    accuracy                           0.98     13572\n",
      "   macro avg       0.98      0.98      0.98     13572\n",
      "weighted avg       0.98      0.98      0.98     13572\n",
      "\n"
     ]
    }
   ],
   "source": [
    "import joblib\n",
    "import pandas as pd\n",
    "from sklearn.metrics import accuracy_score, precision_score, recall_score, f1_score, confusion_matrix, classification_report\n",
    "\n",
    "# ----------------- LOAD MODEL AND SCALER -----------------\n",
    "outage_model = joblib.load('/kaggle/input/high_severity_rf_model-2/scikitlearn/default/1/high_severity_rf_model (2).pkl')\n",
    "scaler = joblib.load('/kaggle/input/high_severity_rf_model-2/scikitlearn/default/1/high_severity_scaler (2).pkl')\n",
    "\n",
    "# ----------------- PREPARE FEATURES -----------------\n",
    "X = high_severity_data[outage_features]\n",
    "\n",
    "# ----------------- SCALE FEATURES -----------------\n",
    "X_scaled = scaler.transform(X)\n",
    "\n",
    "# ----------------- SEVERITY PREDICTION -----------------\n",
    "outage_pred = outage_model.predict(X_scaled)\n",
    "\n",
    "# ----------------- TRUE AND PREDICTED LABELS -----------------\n",
    "target_col = 'is_outage'  # Assuming this is the target column based on prior context\n",
    "y_true_outage = high_severity_data[target_col]\n",
    "y_pred_outage = outage_pred\n",
    "\n",
    "# ----------------- METRIC CALCULATIONS -----------------\n",
    "accuracy = accuracy_score(y_true_outage, y_pred_outage)\n",
    "precision = precision_score(y_true_outage, y_pred_outage, average='binary', zero_division=0)\n",
    "recall = recall_score(y_true_outage, y_pred_outage, average='binary', zero_division=0)\n",
    "f1_high = f1_score(y_true_outage, y_pred_outage, average='binary', zero_division=0)\n",
    "conf_matrix = confusion_matrix(y_true_outage, y_pred_outage)\n",
    "\n",
    "# ----------------- OUTPUT -----------------\n",
    "print(\"Outage Prediction Metrics (High Severity):\")\n",
    "print(f\"Accuracy : {accuracy:.4f}\")\n",
    "print(f\"Precision: {precision:.4f}\")\n",
    "print(f\"Recall   : {recall:.4f}\")\n",
    "print(f\"F1 Score : {f1_high:.4f}\")\n",
    "print(\"\\nConfusion Matrix:\")\n",
    "print(conf_matrix)\n",
    "print(\"\\nClassification Report:\")\n",
    "print(classification_report(y_true_outage, y_pred_outage, zero_division=0))"
   ]
  },
  {
   "cell_type": "code",
   "execution_count": 11,
   "metadata": {
    "execution": {
     "iopub.execute_input": "2025-05-14T22:30:25.139689Z",
     "iopub.status.busy": "2025-05-14T22:30:25.139389Z",
     "iopub.status.idle": "2025-05-14T22:30:25.145971Z",
     "shell.execute_reply": "2025-05-14T22:30:25.145164Z",
     "shell.execute_reply.started": "2025-05-14T22:30:25.139662Z"
    },
    "trusted": true
   },
   "outputs": [
    {
     "name": "stdout",
     "output_type": "stream",
     "text": [
      "\n",
      "Overall Model Evaluation:\n",
      "F1 Storm: 0.9308\n",
      "F1 Severity (macro): 0.9329\n",
      "Weights - Low: 0.340, Medium: 0.322, High: 0.337\n",
      "F1 Low: 0.9878, F1 Medium: 0.9739, F1 High: 0.9755\n",
      "Overall Metric (F1_storm * F1_severity * (wL*F1L + wM*F1M + wH*F1H)): 0.8503\n"
     ]
    }
   ],
   "source": [
    "# Compute weights based on true severity supports\n",
    "w_low = support_low / total_support\n",
    "w_medium = support_medium / total_support\n",
    "w_high = support_high / total_support\n",
    "\n",
    "# Compute the overall evaluation metric\n",
    "overall_metric = f1_storm * f1_severity * (w_low * f1_low + w_medium * f1_medium + w_high * f1_high)\n",
    "\n",
    "# Print the results\n",
    "print(\"\\nOverall Model Evaluation:\")\n",
    "print(f\"F1 Storm: {f1_storm:.4f}\")\n",
    "print(f\"F1 Severity (macro): {f1_severity:.4f}\")\n",
    "print(f\"Weights - Low: {w_low:.3f}, Medium: {w_medium:.3f}, High: {w_high:.3f}\")\n",
    "print(f\"F1 Low: {f1_low:.4f}, F1 Medium: {f1_medium:.4f}, F1 High: {f1_high:.4f}\")\n",
    "print(f\"Overall Metric (F1_storm * F1_severity * (wL*F1L + wM*F1M + wH*F1H)): {overall_metric:.4f}\")"
   ]
  }
 ],
 "metadata": {
  "kaggle": {
   "accelerator": "none",
   "dataSources": [
    {
     "datasetId": 7304854,
     "sourceId": 11641464,
     "sourceType": "datasetVersion"
    },
    {
     "datasetId": 7421190,
     "sourceId": 11815324,
     "sourceType": "datasetVersion"
    },
    {
     "isSourceIdPinned": false,
     "modelId": 342690,
     "modelInstanceId": 322046,
     "sourceId": 391083,
     "sourceType": "modelInstanceVersion"
    },
    {
     "isSourceIdPinned": false,
     "modelId": 343201,
     "modelInstanceId": 322511,
     "sourceId": 391688,
     "sourceType": "modelInstanceVersion"
    },
    {
     "isSourceIdPinned": true,
     "modelId": 343546,
     "modelInstanceId": 322858,
     "sourceId": 392113,
     "sourceType": "modelInstanceVersion"
    },
    {
     "isSourceIdPinned": true,
     "modelId": 343559,
     "modelInstanceId": 322873,
     "sourceId": 392130,
     "sourceType": "modelInstanceVersion"
    },
    {
     "isSourceIdPinned": true,
     "modelId": 343563,
     "modelInstanceId": 322877,
     "sourceId": 392135,
     "sourceType": "modelInstanceVersion"
    }
   ],
   "dockerImageVersionId": 31012,
   "isGpuEnabled": false,
   "isInternetEnabled": true,
   "language": "python",
   "sourceType": "notebook"
  },
  "kernelspec": {
   "display_name": "Python 3",
   "language": "python",
   "name": "python3"
  },
  "language_info": {
   "codemirror_mode": {
    "name": "ipython",
    "version": 3
   },
   "file_extension": ".py",
   "mimetype": "text/x-python",
   "name": "python",
   "nbconvert_exporter": "python",
   "pygments_lexer": "ipython3",
   "version": "3.11.11"
  }
 },
 "nbformat": 4,
 "nbformat_minor": 4
}
